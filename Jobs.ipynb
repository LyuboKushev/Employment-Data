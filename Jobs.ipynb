{
 "cells": [
  {
   "cell_type": "code",
   "execution_count": 96,
   "metadata": {
    "scrolled": false
   },
   "outputs": [
    {
     "data": {
      "text/html": [
       "<style>.container { width:90% !important; }</style>"
      ],
      "text/plain": [
       "<IPython.core.display.HTML object>"
      ]
     },
     "metadata": {},
     "output_type": "display_data"
    }
   ],
   "source": [
    "import requests # to get the HTML\n",
    "from bs4 import BeautifulSoup # to get parse the text\n",
    "from selenium.webdriver.common.by import By\n",
    "from selenium import webdriver\n",
    "import chromedriver_binary\n",
    "import numpy as np\n",
    "import pandas as pd\n",
    "import tqdm\n",
    "\n",
    "from IPython.core.display import display, HTML\n",
    "display(HTML(\"<style>.container { width:90% !important; }</style>\"))"
   ]
  },
  {
   "cell_type": "code",
   "execution_count": 2,
   "metadata": {},
   "outputs": [],
   "source": [
    "url = 'https://www.jobs.bg/front_job_search.php?frompage=0&add_sh=1&from_hp=1&term=#paging'\n",
    "#      https://www.jobs.bg/front_job_search.php?frompage=15&add_sh=1&from_hp=1&term=#paging\n",
    "\n",
    "r = requests.get(url)\n",
    "soup = BeautifulSoup(r.text, 'html.parser')"
   ]
  },
  {
   "cell_type": "code",
   "execution_count": 93,
   "metadata": {},
   "outputs": [],
   "source": [
    "def get_pages(soup):\n",
    "    \"\"\"Get the total number of job offerings and the total number of pages.\n",
    "    output: total number of pages\n",
    "    \"\"\"\n",
    "    total_job_number = soup.find('td',\n",
    "                            attrs={'style':\n",
    "                                  'height:25px;width:220px;font-weight:500;padding-bottom:5px;'}).text.split()[-1]\n",
    "    total_job_number= int(total_job_number)\n",
    "    total_pages = int(total_job_number/15)+1 #round up\n",
    "    return total_pages"
   ]
  },
  {
   "cell_type": "code",
   "execution_count": 103,
   "metadata": {},
   "outputs": [
    {
     "name": "stderr",
     "output_type": "stream",
     "text": [
      "100%|██████████| 30/30 [00:40<00:00,  1.36s/it]\n"
     ]
    }
   ],
   "source": [
    "# total_pages = get_pages(soup)\n",
    "total_pages = 30\n",
    "results =[]\n",
    "\n",
    "for page in tqdm.tqdm(range(total_pages)):\n",
    "\n",
    "    url = f'https://www.jobs.bg/front_job_search.php?frompage={page*15}&add_sh=1&from_hp=1&term=#paging'\n",
    "    r = requests.get(url)\n",
    "    soup = BeautifulSoup(r.text, 'html.parser')\n",
    "\n",
    "    jobs_list = soup.find('table',\n",
    "                               attrs={'style':\n",
    "                                       'width:740px;'}).find_all('tr')\n",
    "\n",
    "    for job in jobs_list:\n",
    "        date = job.find('span',attrs={'class':'card__subtitle mdc-typography mdc-typography--overline line-height-1-5'}).text.strip()\n",
    "        rating = job.find('span',attrs={'class':'iconed'}).text.strip()\n",
    "        position = job.find('a',attrs={'class':'card__title mdc-typography mdc-typography--headline6 text-overflow'}).text.strip()\n",
    "        benefits = job.find('span',attrs={'class':'card__subtitle mdc-typography mdc-typography--body2 top-margin'}).text.strip()\n",
    "        results.append([date, rating, position, benefits])"
   ]
  },
  {
   "cell_type": "code",
   "execution_count": 104,
   "metadata": {
    "scrolled": false
   },
   "outputs": [
    {
     "data": {
      "text/html": [
       "<div>\n",
       "<style scoped>\n",
       "    .dataframe tbody tr th:only-of-type {\n",
       "        vertical-align: middle;\n",
       "    }\n",
       "\n",
       "    .dataframe tbody tr th {\n",
       "        vertical-align: top;\n",
       "    }\n",
       "\n",
       "    .dataframe thead th {\n",
       "        text-align: right;\n",
       "    }\n",
       "</style>\n",
       "<table border=\"1\" class=\"dataframe\">\n",
       "  <thead>\n",
       "    <tr style=\"text-align: right;\">\n",
       "      <th></th>\n",
       "      <th>0</th>\n",
       "      <th>1</th>\n",
       "      <th>2</th>\n",
       "      <th>3</th>\n",
       "    </tr>\n",
       "  </thead>\n",
       "  <tbody>\n",
       "    <tr>\n",
       "      <th>0</th>\n",
       "      <td>днес</td>\n",
       "      <td></td>\n",
       "      <td>Customer Service Advisor</td>\n",
       "      <td>София; Заплата от 1650 до 2150 BGN (Нето)</td>\n",
       "    </tr>\n",
       "    <tr>\n",
       "      <th>1</th>\n",
       "      <td>днес</td>\n",
       "      <td></td>\n",
       "      <td>RETENTION SPECIALIST</td>\n",
       "      <td>София; Заплата от 5000 до 8000 BGN (Бруто)</td>\n",
       "    </tr>\n",
       "    <tr>\n",
       "      <th>2</th>\n",
       "      <td>днес</td>\n",
       "      <td></td>\n",
       "      <td>Customer Care Agent with German</td>\n",
       "      <td>София; Възможност за работа от вкъщи; Дистанци...</td>\n",
       "    </tr>\n",
       "    <tr>\n",
       "      <th>3</th>\n",
       "      <td>днес</td>\n",
       "      <td></td>\n",
       "      <td>Purchasing Administrator with German, Italian,...</td>\n",
       "      <td>София; Възможност за работа от вкъщи; Дистанци...</td>\n",
       "    </tr>\n",
       "    <tr>\n",
       "      <th>4</th>\n",
       "      <td>днес</td>\n",
       "      <td></td>\n",
       "      <td>Trading Platform Administrator</td>\n",
       "      <td>София; Дистанционно интервю</td>\n",
       "    </tr>\n",
       "    <tr>\n",
       "      <th>...</th>\n",
       "      <td>...</td>\n",
       "      <td>...</td>\n",
       "      <td>...</td>\n",
       "      <td>...</td>\n",
       "    </tr>\n",
       "    <tr>\n",
       "      <th>445</th>\n",
       "      <td>26.04.21</td>\n",
       "      <td></td>\n",
       "      <td>Global Process Owner, Order to Cash</td>\n",
       "      <td>София</td>\n",
       "    </tr>\n",
       "    <tr>\n",
       "      <th>446</th>\n",
       "      <td>26.04.21</td>\n",
       "      <td></td>\n",
       "      <td>Международен шофьор / Международни шофьори</td>\n",
       "      <td>София; Заплата от 2400 до 2900 EUR (Нето)</td>\n",
       "    </tr>\n",
       "    <tr>\n",
       "      <th>447</th>\n",
       "      <td>26.04.21</td>\n",
       "      <td></td>\n",
       "      <td>HR Administrator Interim</td>\n",
       "      <td>София; Дистанционно интервю</td>\n",
       "    </tr>\n",
       "    <tr>\n",
       "      <th>448</th>\n",
       "      <td>26.04.21</td>\n",
       "      <td></td>\n",
       "      <td>Sr. Project Manager (User Enablement - Celonis)</td>\n",
       "      <td>София; Възможност за работа от вкъщи; Дистанци...</td>\n",
       "    </tr>\n",
       "    <tr>\n",
       "      <th>449</th>\n",
       "      <td>26.04.21</td>\n",
       "      <td></td>\n",
       "      <td>Ръководител секция</td>\n",
       "      <td>София</td>\n",
       "    </tr>\n",
       "  </tbody>\n",
       "</table>\n",
       "<p>450 rows × 4 columns</p>\n",
       "</div>"
      ],
      "text/plain": [
       "            0      1                                                  2  \\\n",
       "0        днес                             Customer Service Advisor   \n",
       "1        днес                                 RETENTION SPECIALIST   \n",
       "2        днес                      Customer Care Agent with German   \n",
       "3        днес    Purchasing Administrator with German, Italian,...   \n",
       "4        днес                       Trading Platform Administrator   \n",
       "..        ...    ...                                                ...   \n",
       "445  26.04.21                  Global Process Owner, Order to Cash   \n",
       "446  26.04.21           Международен шофьор / Международни шофьори   \n",
       "447  26.04.21                             HR Administrator Interim   \n",
       "448  26.04.21      Sr. Project Manager (User Enablement - Celonis)   \n",
       "449  26.04.21                                   Ръководител секция   \n",
       "\n",
       "                                                     3  \n",
       "0            София; Заплата от 1650 до 2150 BGN (Нето)  \n",
       "1           София; Заплата от 5000 до 8000 BGN (Бруто)  \n",
       "2    София; Възможност за работа от вкъщи; Дистанци...  \n",
       "3    София; Възможност за работа от вкъщи; Дистанци...  \n",
       "4                          София; Дистанционно интервю  \n",
       "..                                                 ...  \n",
       "445                                              София  \n",
       "446          София; Заплата от 2400 до 2900 EUR (Нето)  \n",
       "447                        София; Дистанционно интервю  \n",
       "448  София; Възможност за работа от вкъщи; Дистанци...  \n",
       "449                                              София  \n",
       "\n",
       "[450 rows x 4 columns]"
      ]
     },
     "execution_count": 104,
     "metadata": {},
     "output_type": "execute_result"
    }
   ],
   "source": [
    "pd.DataFrame(results)"
   ]
  },
  {
   "cell_type": "code",
   "execution_count": null,
   "metadata": {},
   "outputs": [],
   "source": []
  }
 ],
 "metadata": {
  "kernelspec": {
   "display_name": "Python 3",
   "language": "python",
   "name": "python3"
  },
  "language_info": {
   "codemirror_mode": {
    "name": "ipython",
    "version": 3
   },
   "file_extension": ".py",
   "mimetype": "text/x-python",
   "name": "python",
   "nbconvert_exporter": "python",
   "pygments_lexer": "ipython3",
   "version": "3.8.3"
  }
 },
 "nbformat": 4,
 "nbformat_minor": 4
}
