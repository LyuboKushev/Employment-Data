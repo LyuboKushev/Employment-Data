{
 "cells": [
  {
   "cell_type": "code",
   "execution_count": 11,
   "metadata": {
    "scrolled": false
   },
   "outputs": [
    {
     "data": {
      "text/html": [
       "<style>.container { width:90% !important; }</style>"
      ],
      "text/plain": [
       "<IPython.core.display.HTML object>"
      ]
     },
     "metadata": {},
     "output_type": "display_data"
    }
   ],
   "source": [
    "import requests # to get the HTML\n",
    "from bs4 import BeautifulSoup # to get parse the text\n",
    "from selenium.webdriver.common.by import By\n",
    "from selenium import webdriver\n",
    "import chromedriver_binary\n",
    "import numpy as np\n",
    "import pandas as pd\n",
    "import tqdm\n",
    "from datetime import date\n",
    "\n",
    "\n",
    "from IPython.core.display import display, HTML\n",
    "display(HTML(\"<style>.container { width:90% !important; }</style>\"))"
   ]
  },
  {
   "cell_type": "code",
   "execution_count": 2,
   "metadata": {},
   "outputs": [],
   "source": [
    "url = 'https://www.jobs.bg/front_job_search.php?frompage=0&add_sh=1&from_hp=1&term=#paging'\n",
    "#      https://www.jobs.bg/front_job_search.php?frompage=15&add_sh=1&from_hp=1&term=#paging\n",
    "\n",
    "r = requests.get(url)\n",
    "soup = BeautifulSoup(r.text, 'html.parser')"
   ]
  },
  {
   "cell_type": "code",
   "execution_count": 3,
   "metadata": {},
   "outputs": [],
   "source": [
    "def get_pages(soup):\n",
    "    \"\"\"Get the total number of job offerings and the total number of pages.\n",
    "    output: total number of pages\n",
    "    \"\"\"\n",
    "    total_job_number = soup.find('td',\n",
    "                            attrs={'style':\n",
    "                                  'height:25px;width:220px;font-weight:500;padding-bottom:5px;'}).text.split()[-1]\n",
    "    total_job_number= int(total_job_number)\n",
    "    total_pages = int(total_job_number/15)+1 #round up\n",
    "    return total_pages"
   ]
  },
  {
   "cell_type": "code",
   "execution_count": 63,
   "metadata": {},
   "outputs": [
    {
     "name": "stderr",
     "output_type": "stream",
     "text": [
      "  0%|          | 0/20 [00:00<?, ?it/s]\n"
     ]
    },
    {
     "ename": "AttributeError",
     "evalue": "'NoneType' object has no attribute 'text'",
     "output_type": "error",
     "traceback": [
      "\u001b[0;31m---------------------------------------------------------------------------\u001b[0m",
      "\u001b[0;31mAttributeError\u001b[0m                            Traceback (most recent call last)",
      "\u001b[0;32m<ipython-input-63-d7cc0e6d3d1d>\u001b[0m in \u001b[0;36m<module>\u001b[0;34m\u001b[0m\n\u001b[1;32m     14\u001b[0m \u001b[0;34m\u001b[0m\u001b[0m\n\u001b[1;32m     15\u001b[0m     \u001b[0;32mfor\u001b[0m \u001b[0mjob\u001b[0m \u001b[0;32min\u001b[0m \u001b[0mjobs_list\u001b[0m\u001b[0;34m:\u001b[0m\u001b[0;34m\u001b[0m\u001b[0;34m\u001b[0m\u001b[0m\n\u001b[0;32m---> 16\u001b[0;31m         \u001b[0mjob_date\u001b[0m \u001b[0;34m=\u001b[0m \u001b[0mjob\u001b[0m\u001b[0;34m.\u001b[0m\u001b[0mfind\u001b[0m\u001b[0;34m(\u001b[0m\u001b[0;34m'span'\u001b[0m\u001b[0;34m,\u001b[0m\u001b[0mattrs\u001b[0m\u001b[0;34m=\u001b[0m\u001b[0;34m{\u001b[0m\u001b[0;34m'class'\u001b[0m\u001b[0;34m:\u001b[0m\u001b[0;34m'card__subtitle mdc-typography mdc-typography--overline line-height-1-5'\u001b[0m\u001b[0;34m}\u001b[0m\u001b[0;34m)\u001b[0m\u001b[0;34m.\u001b[0m\u001b[0mtext\u001b[0m\u001b[0;34m.\u001b[0m\u001b[0mstrip\u001b[0m\u001b[0;34m(\u001b[0m\u001b[0;34m)\u001b[0m\u001b[0;34m\u001b[0m\u001b[0;34m\u001b[0m\u001b[0m\n\u001b[0m\u001b[1;32m     17\u001b[0m         \u001b[0;32mif\u001b[0m \u001b[0mjob_date\u001b[0m \u001b[0;34m==\u001b[0m \u001b[0;34m'днес'\u001b[0m\u001b[0;34m:\u001b[0m\u001b[0;34m\u001b[0m\u001b[0;34m\u001b[0m\u001b[0m\n\u001b[1;32m     18\u001b[0m             \u001b[0mjob_date\u001b[0m\u001b[0;34m=\u001b[0m\u001b[0mdate\u001b[0m\u001b[0;34m.\u001b[0m\u001b[0mtoday\u001b[0m\u001b[0;34m(\u001b[0m\u001b[0;34m)\u001b[0m\u001b[0;34m.\u001b[0m\u001b[0mstrftime\u001b[0m\u001b[0;34m(\u001b[0m\u001b[0;34m\"%d.%m.%y\"\u001b[0m\u001b[0;34m)\u001b[0m\u001b[0;34m\u001b[0m\u001b[0;34m\u001b[0m\u001b[0m\n",
      "\u001b[0;31mAttributeError\u001b[0m: 'NoneType' object has no attribute 'text'"
     ]
    }
   ],
   "source": [
    "# total_pages = get_pages(soup)\n",
    "total_pages = 20\n",
    "results =[]\n",
    "\n",
    "for page in tqdm.tqdm(range(total_pages)):\n",
    "\n",
    "    url = f'https://www.jobs.bg/front_job_search.php?frompage={page*15}&add_sh=1&from_hp=1&term=#paging'\n",
    "    r = requests.get(url)\n",
    "    soup = BeautifulSoup(r.text, 'html.parser')\n",
    "\n",
    "    jobs_list = soup.find_all('table',\n",
    "                               attrs={'style':\n",
    "                                       'width:980px;'})[0].find_all('tr')\n",
    "\n",
    "    for job in jobs_list:\n",
    "        job_date = job.find('span',attrs={'class':'card__subtitle mdc-typography mdc-typography--overline line-height-1-5'}).text.strip()\n",
    "        if job_date == 'днес':\n",
    "            job_date=date.today().strftime(\"%d.%m.%y\")\n",
    "        rating = job.find('span',attrs={'class':'iconed'}).text.strip()\n",
    "        position = job.find('a',attrs={'class':'card__title mdc-typography mdc-typography--headline6 text-overflow'}).text.strip()\n",
    "        benefits = job.find('span',attrs={'class':'card__subtitle mdc-typography mdc-typography--body2 top-margin'}).text.strip()\n",
    "        results.append([job_date, rating, position, benefits])"
   ]
  },
  {
   "cell_type": "code",
   "execution_count": null,
   "metadata": {},
   "outputs": [],
   "source": [
    "url = f'https://www.jobs.bg/front_job_search.php?frompage={page*15}&add_sh=1&from_hp=1&term=#paging'\n",
    "r = requests.get(url)\n",
    "soup = BeautifulSoup(r.text, 'html.parser')\n",
    "\n",
    "# jobs_list = soup.find_all('table',\n",
    "#                            attrs={'style':\n",
    "#                                    'width:980px;'})[0].find_all('tr')"
   ]
  },
  {
   "cell_type": "code",
   "execution_count": null,
   "metadata": {},
   "outputs": [],
   "source": [
    "soup.find_all('table',\n",
    "                           attrs={'style':\n",
    "                                   'width:980px;'})[0].find_all('tr')"
   ]
  },
  {
   "cell_type": "code",
   "execution_count": null,
   "metadata": {},
   "outputs": [],
   "source": []
  },
  {
   "cell_type": "code",
   "execution_count": null,
   "metadata": {},
   "outputs": [],
   "source": []
  },
  {
   "cell_type": "code",
   "execution_count": null,
   "metadata": {},
   "outputs": [],
   "source": []
  },
  {
   "cell_type": "code",
   "execution_count": 26,
   "metadata": {
    "scrolled": false
   },
   "outputs": [
    {
     "data": {
      "text/html": [
       "<div>\n",
       "<style scoped>\n",
       "    .dataframe tbody tr th:only-of-type {\n",
       "        vertical-align: middle;\n",
       "    }\n",
       "\n",
       "    .dataframe tbody tr th {\n",
       "        vertical-align: top;\n",
       "    }\n",
       "\n",
       "    .dataframe thead th {\n",
       "        text-align: right;\n",
       "    }\n",
       "</style>\n",
       "<table border=\"1\" class=\"dataframe\">\n",
       "  <thead>\n",
       "    <tr style=\"text-align: right;\">\n",
       "      <th></th>\n",
       "      <th>0</th>\n",
       "      <th>1</th>\n",
       "      <th>2</th>\n",
       "      <th>3</th>\n",
       "    </tr>\n",
       "  </thead>\n",
       "  <tbody>\n",
       "    <tr>\n",
       "      <th>0</th>\n",
       "      <td>29.04.21</td>\n",
       "      <td></td>\n",
       "      <td>(IT) Recruitment wizard and warrior</td>\n",
       "      <td>София; Възможност за работа от вкъщи; Дистанци...</td>\n",
       "    </tr>\n",
       "    <tr>\n",
       "      <th>1</th>\n",
       "      <td>29.04.21</td>\n",
       "      <td></td>\n",
       "      <td>Technical Support Engineer</td>\n",
       "      <td>София</td>\n",
       "    </tr>\n",
       "    <tr>\n",
       "      <th>2</th>\n",
       "      <td>29.04.21</td>\n",
       "      <td></td>\n",
       "      <td>Java developer</td>\n",
       "      <td>София; Възможност за работа от вкъщи; Дистанци...</td>\n",
       "    </tr>\n",
       "    <tr>\n",
       "      <th>3</th>\n",
       "      <td>29.04.21</td>\n",
       "      <td></td>\n",
       "      <td>Senior Customer Technical Support and Sales Ag...</td>\n",
       "      <td>София; Заплата от 1800 до 2200 BGN (Нето)</td>\n",
       "    </tr>\n",
       "    <tr>\n",
       "      <th>4</th>\n",
       "      <td>29.04.21</td>\n",
       "      <td></td>\n",
       "      <td>Асистент в кухня</td>\n",
       "      <td>София</td>\n",
       "    </tr>\n",
       "    <tr>\n",
       "      <th>...</th>\n",
       "      <td>...</td>\n",
       "      <td>...</td>\n",
       "      <td>...</td>\n",
       "      <td>...</td>\n",
       "    </tr>\n",
       "    <tr>\n",
       "      <th>445</th>\n",
       "      <td>27.04.21</td>\n",
       "      <td></td>\n",
       "      <td>Scrum Master with German</td>\n",
       "      <td>София; Възможност за работа от вкъщи</td>\n",
       "    </tr>\n",
       "    <tr>\n",
       "      <th>446</th>\n",
       "      <td>27.04.21</td>\n",
       "      <td></td>\n",
       "      <td>Доставчик с личен автомобил</td>\n",
       "      <td>София; Заплата от 1600 до 2600 BGN (Нето)</td>\n",
       "    </tr>\n",
       "    <tr>\n",
       "      <th>447</th>\n",
       "      <td>27.04.21</td>\n",
       "      <td></td>\n",
       "      <td>Junior Recruitment Specialist</td>\n",
       "      <td>София; Дистанционно интервю</td>\n",
       "    </tr>\n",
       "    <tr>\n",
       "      <th>448</th>\n",
       "      <td>27.04.21</td>\n",
       "      <td></td>\n",
       "      <td>Junior Agent with German and English</td>\n",
       "      <td>София</td>\n",
       "    </tr>\n",
       "    <tr>\n",
       "      <th>449</th>\n",
       "      <td>27.04.21</td>\n",
       "      <td></td>\n",
       "      <td>Quality &amp; Team Manager with German</td>\n",
       "      <td>София</td>\n",
       "    </tr>\n",
       "  </tbody>\n",
       "</table>\n",
       "<p>450 rows × 4 columns</p>\n",
       "</div>"
      ],
      "text/plain": [
       "            0      1                                                  2  \\\n",
       "0    29.04.21                  (IT) Recruitment wizard and warrior   \n",
       "1    29.04.21                           Technical Support Engineer   \n",
       "2    29.04.21                                       Java developer   \n",
       "3    29.04.21    Senior Customer Technical Support and Sales Ag...   \n",
       "4    29.04.21                                     Асистент в кухня   \n",
       "..        ...    ...                                                ...   \n",
       "445  27.04.21                             Scrum Master with German   \n",
       "446  27.04.21                          Доставчик с личен автомобил   \n",
       "447  27.04.21                        Junior Recruitment Specialist   \n",
       "448  27.04.21                 Junior Agent with German and English   \n",
       "449  27.04.21                   Quality & Team Manager with German   \n",
       "\n",
       "                                                     3  \n",
       "0    София; Възможност за работа от вкъщи; Дистанци...  \n",
       "1                                                София  \n",
       "2    София; Възможност за работа от вкъщи; Дистанци...  \n",
       "3            София; Заплата от 1800 до 2200 BGN (Нето)  \n",
       "4                                                София  \n",
       "..                                                 ...  \n",
       "445               София; Възможност за работа от вкъщи  \n",
       "446          София; Заплата от 1600 до 2600 BGN (Нето)  \n",
       "447                        София; Дистанционно интервю  \n",
       "448                                              София  \n",
       "449                                              София  \n",
       "\n",
       "[450 rows x 4 columns]"
      ]
     },
     "execution_count": 26,
     "metadata": {},
     "output_type": "execute_result"
    }
   ],
   "source": [
    "pd.DataFrame(results)"
   ]
  },
  {
   "cell_type": "code",
   "execution_count": 57,
   "metadata": {},
   "outputs": [],
   "source": [
    "url = f'https://www.jobs.bg/front_job_search.php?frompage=15010&add_sh=1&from_hp=1&term=#paging'\n",
    "r = requests.get(url)\n",
    "soup = BeautifulSoup(r.text, 'html.parser')\n",
    "\n",
    "jobs_list = soup.find_all('table',\n",
    "                      attrs={'style':'width:980px;'})[1].find_all('tr')\n",
    "\n",
    "rating = jobs_list[1].find('span',attrs={'class':'iconed'}).text.strip()"
   ]
  },
  {
   "cell_type": "code",
   "execution_count": 58,
   "metadata": {},
   "outputs": [
    {
     "data": {
      "text/plain": [
       "'\\uf4b1'"
      ]
     },
     "execution_count": 58,
     "metadata": {},
     "output_type": "execute_result"
    }
   ],
   "source": [
    "rating"
   ]
  },
  {
   "cell_type": "code",
   "execution_count": 59,
   "metadata": {
    "scrolled": true
   },
   "outputs": [
    {
     "data": {
      "text/plain": [
       "<span class=\"iconed\" style=\"color: #ffaa2d;\"></span>"
      ]
     },
     "execution_count": 59,
     "metadata": {},
     "output_type": "execute_result"
    }
   ],
   "source": [
    "soup.find_all('table',attrs={'style':'width:980px;'})[1].find_all('tr')[0].find('span',attrs={'class':'iconed'})"
   ]
  },
  {
   "cell_type": "code",
   "execution_count": null,
   "metadata": {},
   "outputs": [],
   "source": []
  },
  {
   "cell_type": "code",
   "execution_count": null,
   "metadata": {},
   "outputs": [],
   "source": []
  },
  {
   "cell_type": "code",
   "execution_count": null,
   "metadata": {},
   "outputs": [],
   "source": []
  },
  {
   "cell_type": "code",
   "execution_count": null,
   "metadata": {},
   "outputs": [],
   "source": []
  },
  {
   "cell_type": "code",
   "execution_count": null,
   "metadata": {},
   "outputs": [],
   "source": []
  },
  {
   "cell_type": "code",
   "execution_count": null,
   "metadata": {},
   "outputs": [],
   "source": []
  },
  {
   "cell_type": "code",
   "execution_count": null,
   "metadata": {},
   "outputs": [],
   "source": []
  },
  {
   "cell_type": "code",
   "execution_count": null,
   "metadata": {},
   "outputs": [],
   "source": []
  },
  {
   "cell_type": "code",
   "execution_count": null,
   "metadata": {},
   "outputs": [],
   "source": []
  },
  {
   "cell_type": "code",
   "execution_count": null,
   "metadata": {},
   "outputs": [],
   "source": []
  }
 ],
 "metadata": {
  "kernelspec": {
   "display_name": "Python 3",
   "language": "python",
   "name": "python3"
  },
  "language_info": {
   "codemirror_mode": {
    "name": "ipython",
    "version": 3
   },
   "file_extension": ".py",
   "mimetype": "text/x-python",
   "name": "python",
   "nbconvert_exporter": "python",
   "pygments_lexer": "ipython3",
   "version": "3.8.3"
  }
 },
 "nbformat": 4,
 "nbformat_minor": 4
}
