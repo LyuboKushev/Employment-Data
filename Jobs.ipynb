{
 "cells": [
  {
   "cell_type": "code",
   "execution_count": 1,
   "metadata": {
    "scrolled": false
   },
   "outputs": [
    {
     "data": {
      "text/html": [
       "<style>.container { width:90% !important; }</style>"
      ],
      "text/plain": [
       "<IPython.core.display.HTML object>"
      ]
     },
     "metadata": {},
     "output_type": "display_data"
    }
   ],
   "source": [
    "import requests # to get the HTML\n",
    "from bs4 import BeautifulSoup # to get parse the text\n",
    "import numpy as np\n",
    "import pandas as pd\n",
    "import tqdm\n",
    "from datetime import date, timedelta\n",
    "\n",
    "from IPython.core.display import display, HTML\n",
    "display(HTML(\"<style>.container { width:90% !important; }</style>\"))"
   ]
  },
  {
   "cell_type": "code",
   "execution_count": 2,
   "metadata": {},
   "outputs": [],
   "source": [
    "pd.options.display.max_colwidth = 200"
   ]
  },
  {
   "cell_type": "code",
   "execution_count": 3,
   "metadata": {},
   "outputs": [],
   "source": [
    "url = 'https://www.jobs.bg/front_job_search.php?frompage=0&add_sh=1&from_hp=1&term=#paging'\n",
    "#      https://www.jobs.bg/front_job_search.php?frompage=15&add_sh=1&from_hp=1&term=#paging\n",
    "\n",
    "r = requests.get(url)\n",
    "soup = BeautifulSoup(r.text, 'html.parser')"
   ]
  },
  {
   "cell_type": "code",
   "execution_count": 4,
   "metadata": {},
   "outputs": [],
   "source": [
    "def get_pages(soup):\n",
    "    \"\"\"Get the total number of job offerings and the total number of pages.\n",
    "    output: total number of pages\n",
    "    \"\"\"\n",
    "    total_job_number = soup.find('td',\n",
    "                            attrs={'style':\n",
    "                                  'height:25px;width:220px;font-weight:500;padding-bottom:5px;'}).text.split()[-1]\n",
    "    total_job_number= int(total_job_number)\n",
    "    total_pages = int(total_job_number/15)+1 #round up\n",
    "    return total_pages"
   ]
  },
  {
   "cell_type": "code",
   "execution_count": 10,
   "metadata": {},
   "outputs": [
    {
     "name": "stderr",
     "output_type": "stream",
     "text": [
      "100%|████████████████████████████████████████████████████████████████████████████████████| 1/1 [00:00<00:00,  2.60it/s]\n"
     ]
    }
   ],
   "source": [
    "# total_pages = get_pages(soup)\n",
    "total_pages = 30\n",
    "results =[]\n",
    "\n",
    "# for page in tqdm.tqdm(range(total_pages)):\n",
    "for page in tqdm.tqdm(range(2025, 2026)):\n",
    "\n",
    "    url = f'https://www.jobs.bg/front_job_search.php?frompage={page*15}&add_sh=1&from_hp=1&term=#paging'\n",
    "    r = requests.get(url)\n",
    "    soup = BeautifulSoup(r.text, 'html.parser')\n",
    "\n",
    "    job_infos = soup.find_all(\"td\", attrs = {\"class\": \"offerslistRow\"})\n",
    "\n",
    "    for i in range(0, 15, 3):\n",
    "        text_info_elem = job_infos[i]\n",
    "        job_logo_elem = job_infos[i+1]\n",
    "        job_company_elem = job_infos[i+2]\n",
    "\n",
    "        job_date = text_info_elem.find('span',attrs={'class':'card__subtitle mdc-typography mdc-typography--overline line-height-1-5'}).text.strip()\n",
    "        if job_date == 'днес':\n",
    "            job_date = date.today().strftime(\"%d.%m.%y\")\n",
    "        elif job_date == 'вчера':\n",
    "            job_date = (date.today() - timedelta(days=1)).strftime(\"%d.%m.%y\")\n",
    "\n",
    "        rating_elem = text_info_elem.find('span',attrs={'class':'iconed'})\n",
    "\n",
    "        if rating_elem:\n",
    "            rataing_elem_styles = rating_elem[\"style\"].split(\";\")\n",
    "            rating_elem_color_styles = [x for x in rataing_elem_styles if \"color:\" in x]\n",
    "            rating_color = rating_elem_color_styles[0].split(\":\")[1]\n",
    "            rating = rating_elem.text.strip().count(\"\\uf4b3\")\n",
    "        else:\n",
    "            rating_color = np.nan\n",
    "            rating = np.nan\n",
    "        \n",
    "        \n",
    "        position = text_info_elem.find('a',attrs={'class':'card__title mdc-typography mdc-typography--headline6 text-overflow'}).text.strip()\n",
    "        benefits = text_info_elem.find('span',attrs={'class':'card__subtitle mdc-typography mdc-typography--body2 top-margin'}).text.strip()\n",
    "        results.append([job_date, rating, rating_color, position, benefits])"
   ]
  },
  {
   "cell_type": "code",
   "execution_count": 11,
   "metadata": {
    "scrolled": true
   },
   "outputs": [
    {
     "data": {
      "text/html": [
       "<div>\n",
       "<style scoped>\n",
       "    .dataframe tbody tr th:only-of-type {\n",
       "        vertical-align: middle;\n",
       "    }\n",
       "\n",
       "    .dataframe tbody tr th {\n",
       "        vertical-align: top;\n",
       "    }\n",
       "\n",
       "    .dataframe thead th {\n",
       "        text-align: right;\n",
       "    }\n",
       "</style>\n",
       "<table border=\"1\" class=\"dataframe\">\n",
       "  <thead>\n",
       "    <tr style=\"text-align: right;\">\n",
       "      <th></th>\n",
       "      <th>date</th>\n",
       "      <th>rating</th>\n",
       "      <th>rating_color</th>\n",
       "      <th>position</th>\n",
       "      <th>benefits</th>\n",
       "    </tr>\n",
       "  </thead>\n",
       "  <tbody>\n",
       "    <tr>\n",
       "      <th>0</th>\n",
       "      <td>13.04.21</td>\n",
       "      <td>NaN</td>\n",
       "      <td>NaN</td>\n",
       "      <td>Водач ССМ</td>\n",
       "      <td>Пловдив</td>\n",
       "    </tr>\n",
       "    <tr>\n",
       "      <th>1</th>\n",
       "      <td>13.04.21</td>\n",
       "      <td>NaN</td>\n",
       "      <td>NaN</td>\n",
       "      <td>Готвач</td>\n",
       "      <td>Русе</td>\n",
       "    </tr>\n",
       "  </tbody>\n",
       "</table>\n",
       "</div>"
      ],
      "text/plain": [
       "       date  rating  rating_color   position benefits\n",
       "0  13.04.21     NaN           NaN  Водач ССМ  Пловдив\n",
       "1  13.04.21     NaN           NaN     Готвач     Русе"
      ]
     },
     "execution_count": 11,
     "metadata": {},
     "output_type": "execute_result"
    }
   ],
   "source": [
    "jobs_df = pd.DataFrame(results, columns=[\"date\", \"rating\", \"rating_color\", \"position\", \"benefits\"])\n",
    "jobs_df.head(2)"
   ]
  }
 ],
 "metadata": {
  "kernelspec": {
   "display_name": "Python 3",
   "language": "python",
   "name": "python3"
  },
  "language_info": {
   "codemirror_mode": {
    "name": "ipython",
    "version": 3
   },
   "file_extension": ".py",
   "mimetype": "text/x-python",
   "name": "python",
   "nbconvert_exporter": "python",
   "pygments_lexer": "ipython3",
   "version": "3.7.3"
  }
 },
 "nbformat": 4,
 "nbformat_minor": 4
}
