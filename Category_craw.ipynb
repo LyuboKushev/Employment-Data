{
 "cells": [
  {
   "cell_type": "markdown",
   "id": "1900cfe5-9399-4052-bf19-a75bf8af917a",
   "metadata": {},
   "source": [
    "# Settings all imports"
   ]
  },
  {
   "cell_type": "code",
   "execution_count": 1,
   "id": "7f2f3050-2aa1-4add-83e7-edea857ad741",
   "metadata": {},
   "outputs": [],
   "source": [
    "import tqdm\n",
    "import requests\n",
    "import urllib.request\n",
    "\n",
    "import numpy as np\n",
    "import pandas as pd\n",
    "\n",
    "from datetime import date, timedelta\n",
    "from selenium.webdriver.common.by import By\n",
    "from selenium import webdriver\n",
    "from selenium.webdriver.chrome.options import Options\n",
    "from bs4 import BeautifulSoup\n",
    "from bs4.element import Comment\n",
    "# from google.colab import drive"
   ]
  },
  {
   "cell_type": "markdown",
   "id": "2c2fbc70-4ab8-476d-b9ae-53d8a2b2e425",
   "metadata": {},
   "source": [
    "# Create a web driver based on operating system. Please change the value of the `OPERATING_SYSTEM` constant to run this notebook on your system"
   ]
  },
  {
   "cell_type": "code",
   "execution_count": 2,
   "id": "7fd2d0a8-e66c-405f-a78c-8ffce41a3ec7",
   "metadata": {},
   "outputs": [
    {
     "data": {
      "text/plain": [
       "'url = \\'https://www.jobs.bg/front_job_search.php?frompage=0&add_sh=1&from_hp=1&term=#paging\\'\\nr = driver.get(url)\\nhtml = driver.execute_script(\"return document.documentElement.outerHTML\")\\nsoup = BeautifulSoup(html, \\'html.parser\\')'"
      ]
     },
     "execution_count": 2,
     "metadata": {},
     "output_type": "execute_result"
    }
   ],
   "source": [
    "OPERATING_SYSTEM = \"mac\"\n",
    "\n",
    "if OPERATING_SYSTEM == \"windows\":\n",
    "    executable_path = \"drivers/windows/chromedriver.exe\"\n",
    "elif OPERATING_SYSTEM == \"mac\":\n",
    "    executable_path = \"drivers/mac/chromedriver\"\n",
    "elif OPERATING_SYSTEM == \"linux\":\n",
    "    executable_path = \"chromedriver\"\n",
    "\n",
    "base_url = 'https://www.jobs.bg/'\n",
    "\n",
    "chrome_options = webdriver.ChromeOptions()\n",
    "chrome_options.add_argument('--headless')\n",
    "chrome_options.add_argument('--no-sandbox')\n",
    "chrome_options.add_argument('--disable-dev-shm-usage')\n",
    "driver = webdriver.Chrome(executable_path=executable_path, options=chrome_options)\n",
    "\n",
    "\n",
    "\"\"\"url = 'https://www.jobs.bg/front_job_search.php?frompage=0&add_sh=1&from_hp=1&term=#paging'\n",
    "r = driver.get(url)\n",
    "html = driver.execute_script(\"return document.documentElement.outerHTML\")\n",
    "soup = BeautifulSoup(html, 'html.parser')\"\"\""
   ]
  },
  {
   "cell_type": "markdown",
   "id": "1bef0728-1d75-4cd3-b252-820a0627edc2",
   "metadata": {},
   "source": [
    "# Extracting the category names and ids so we can perform filters based on category"
   ]
  },
  {
   "cell_type": "code",
   "execution_count": 3,
   "id": "70cc087b-e8d3-4b26-9aec-03f12a119da3",
   "metadata": {},
   "outputs": [],
   "source": [
    "def extract_categories_dataframe():\n",
    "    \"\"\"\"\"\"\n",
    "    url = \"https://www.jobs.bg/index.php\"\n",
    "    r = driver.get(url)\n",
    "    categories_button = driver.find_element_by_id(\"categoriesChip\")\n",
    "    categories_button.click()\n",
    "    html = driver.execute_script(\"return document.documentElement.outerHTML\")\n",
    "    soup = BeautifulSoup(html, 'html.parser')\n",
    "\n",
    "    categories_elem = soup.find('div',attrs={'id':'categoriesSelectSheet'})\n",
    "    categories_elements = categories_elem.find_all(\"div\", attrs={\"class\": \"mdc-chip mdc-ripple-upgraded\"})\n",
    "\n",
    "    categories_info = []\n",
    "    categories_info.append((56))\n",
    "\n",
    "    for category_element in categories_elements:\n",
    "        category_id = category_element['id'].split(\"_\")[-1]\n",
    "        category_id = int(category_id)\n",
    "        categories_info.append(category_id)\n",
    "\n",
    "    #categories_info = pd.DataFrame(categories_info, columns=[\"category_id\"])\n",
    "\n",
    "    return categories_info"
   ]
  },
  {
   "cell_type": "code",
   "execution_count": 4,
   "id": "0ce546e7-df91-4c66-b18a-bcb3281818e2",
   "metadata": {},
   "outputs": [
    {
     "data": {
      "text/plain": [
       "[25, 1]"
      ]
     },
     "execution_count": 4,
     "metadata": {},
     "output_type": "execute_result"
    }
   ],
   "source": [
    "cats_selected = [25, 1]\n",
    "cats_selected"
   ]
  },
  {
   "cell_type": "code",
   "execution_count": 5,
   "id": "1a2f2738-a7e2-4043-a17f-4cae910649b4",
   "metadata": {},
   "outputs": [],
   "source": [
    "def get_position_id(text_info_elem):\n",
    "    \"\"\"\n",
    "    \"\"\"\n",
    "    class_id_elem = 'card__title mdc-typography mdc-typography--headline6 text-overflow'\n",
    "    id_elem = text_info_elem.find('a',attrs={'class':class_id_elem})['href']\n",
    "    position_id = id_elem.lstrip('job/')\n",
    "    \n",
    "    return position_id\n",
    "\n",
    "def extract_job_position_id_as_array(base_url, text_info_elem): # , job_company_elem):\n",
    "    \"\"\"\n",
    "    \"\"\"\n",
    "    position_id = get_position_id(text_info_elem)\n",
    "\n",
    "    current_job_info = [position_id]\n",
    "    \n",
    "    return current_job_info"
   ]
  },
  {
   "cell_type": "code",
   "execution_count": 47,
   "id": "e3162494-d334-4729-82bd-0fd5293b1299",
   "metadata": {},
   "outputs": [],
   "source": [
    "def extract_jobs(start_page, end_page):\n",
    "    \"\"\"\"\"\"\n",
    "    position_category_list = []\n",
    "\n",
    "    for category in tqdm.tqdm(cats_selected):\n",
    "#    for page in tqdm.tqdm(range(start_page, end_page)):    \n",
    "        for page in tqdm.tqdm(range(start_page, end_page)):\n",
    "#        for category in tqdm.tqdm(cats_selected):\n",
    "    \n",
    "            try:\n",
    "                # This is the base url looping through all categories and specified pages in order\n",
    "                url = \"https://www.jobs.bg/front_job_search.php?frompage={}&add_sh=1&categories%5B0%5D={}&term=#paging\".format(page*15, category)\n",
    "              \n",
    "                r = driver.get(url)\n",
    "                html = driver.execute_script(\"return document.documentElement.outerHTML\")\n",
    "                soup = BeautifulSoup(html, 'html.parser')\n",
    "                \n",
    "                class_id_elem = 'card__title mdc-typography mdc-typography--headline6 text-overflow'\n",
    "                id_elem = soup.find_all('a',attrs={'class':class_id_elem})\n",
    "            except Exception as e:\n",
    "                print(f\"Page number: {page}, url: {url}\")\n",
    "                print(f\"Unexpected error: {e.message}\")\n",
    "\n",
    "            for i in range(0,15,1):\n",
    "                try:\n",
    "                    position_id = id_elem[i]['href'].lstrip('job/')\n",
    "                    position_id = (position_id, category)\n",
    "                    position_category_list.append(position_id)\n",
    "\n",
    "                except Exception as e:\n",
    "                    print(f\"Curent page: {page}, {category}, {position_id}\")\n",
    "                    print(f\"Unexpected error: {e}\")\n",
    "\n",
    "    df_columns = [\"position_id\", \"category\"]\n",
    "\n",
    "    position_categofy_df = pd.DataFrame(position_category_list, columns=df_columns)\n",
    "\n",
    "    return position_categofy_df"
   ]
  },
  {
   "cell_type": "code",
   "execution_count": 48,
   "id": "ccd3f77c-3023-4841-9552-848b9387445a",
   "metadata": {},
   "outputs": [
    {
     "name": "stderr",
     "output_type": "stream",
     "text": [
      "  0%|          | 0/2 [00:00<?, ?it/s]\n",
      "  0%|          | 0/10 [00:00<?, ?it/s]\u001b[A\n",
      " 10%|█         | 1/10 [00:00<00:06,  1.34it/s]\u001b[A\n",
      " 20%|██        | 2/10 [00:01<00:05,  1.38it/s]\u001b[A\n",
      " 30%|███       | 3/10 [00:02<00:05,  1.33it/s]\u001b[A\n",
      " 40%|████      | 4/10 [00:02<00:04,  1.35it/s]\u001b[A\n",
      " 50%|█████     | 5/10 [00:03<00:03,  1.37it/s]\u001b[A\n",
      " 60%|██████    | 6/10 [00:04<00:02,  1.38it/s]\u001b[A\n",
      " 70%|███████   | 7/10 [00:05<00:02,  1.37it/s]\u001b[A"
     ]
    },
    {
     "name": "stdout",
     "output_type": "stream",
     "text": [
      "Curent page: 6, 25, ('5674634', 25)\n",
      "Unexpected error: list index out of range\n",
      "Curent page: 6, 25, ('5674634', 25)\n",
      "Unexpected error: list index out of range\n",
      "Curent page: 6, 25, ('5674634', 25)\n",
      "Unexpected error: list index out of range\n",
      "Curent page: 6, 25, ('5674634', 25)\n",
      "Unexpected error: list index out of range\n",
      "Curent page: 6, 25, ('5674634', 25)\n",
      "Unexpected error: list index out of range\n",
      "Curent page: 6, 25, ('5674634', 25)\n",
      "Unexpected error: list index out of range\n",
      "Curent page: 6, 25, ('5674634', 25)\n",
      "Unexpected error: list index out of range\n",
      "Curent page: 6, 25, ('5674634', 25)\n",
      "Unexpected error: list index out of range\n"
     ]
    },
    {
     "name": "stderr",
     "output_type": "stream",
     "text": [
      "\n",
      " 80%|████████  | 8/10 [00:05<00:01,  1.43it/s]\u001b[A"
     ]
    },
    {
     "name": "stdout",
     "output_type": "stream",
     "text": [
      "Curent page: 7, 25, ('5674634', 25)\n",
      "Unexpected error: list index out of range\n",
      "Curent page: 7, 25, ('5674634', 25)\n",
      "Unexpected error: list index out of range\n",
      "Curent page: 7, 25, ('5674634', 25)\n",
      "Unexpected error: list index out of range\n",
      "Curent page: 7, 25, ('5674634', 25)\n",
      "Unexpected error: list index out of range\n",
      "Curent page: 7, 25, ('5674634', 25)\n",
      "Unexpected error: list index out of range\n",
      "Curent page: 7, 25, ('5674634', 25)\n",
      "Unexpected error: list index out of range\n",
      "Curent page: 7, 25, ('5674634', 25)\n",
      "Unexpected error: list index out of range\n",
      "Curent page: 7, 25, ('5674634', 25)\n",
      "Unexpected error: list index out of range\n",
      "Curent page: 7, 25, ('5674634', 25)\n",
      "Unexpected error: list index out of range\n",
      "Curent page: 7, 25, ('5674634', 25)\n",
      "Unexpected error: list index out of range\n",
      "Curent page: 7, 25, ('5674634', 25)\n",
      "Unexpected error: list index out of range\n",
      "Curent page: 7, 25, ('5674634', 25)\n",
      "Unexpected error: list index out of range\n",
      "Curent page: 7, 25, ('5674634', 25)\n",
      "Unexpected error: list index out of range\n",
      "Curent page: 7, 25, ('5674634', 25)\n",
      "Unexpected error: list index out of range\n",
      "Curent page: 7, 25, ('5674634', 25)\n",
      "Unexpected error: list index out of range\n"
     ]
    },
    {
     "name": "stderr",
     "output_type": "stream",
     "text": [
      "\n",
      " 90%|█████████ | 9/10 [00:06<00:00,  1.44it/s]\u001b[A"
     ]
    },
    {
     "name": "stdout",
     "output_type": "stream",
     "text": [
      "Curent page: 8, 25, ('5674634', 25)\n",
      "Unexpected error: list index out of range\n",
      "Curent page: 8, 25, ('5674634', 25)\n",
      "Unexpected error: list index out of range\n",
      "Curent page: 8, 25, ('5674634', 25)\n",
      "Unexpected error: list index out of range\n",
      "Curent page: 8, 25, ('5674634', 25)\n",
      "Unexpected error: list index out of range\n",
      "Curent page: 8, 25, ('5674634', 25)\n",
      "Unexpected error: list index out of range\n",
      "Curent page: 8, 25, ('5674634', 25)\n",
      "Unexpected error: list index out of range\n",
      "Curent page: 8, 25, ('5674634', 25)\n",
      "Unexpected error: list index out of range\n",
      "Curent page: 8, 25, ('5674634', 25)\n",
      "Unexpected error: list index out of range\n",
      "Curent page: 8, 25, ('5674634', 25)\n",
      "Unexpected error: list index out of range\n",
      "Curent page: 8, 25, ('5674634', 25)\n",
      "Unexpected error: list index out of range\n",
      "Curent page: 8, 25, ('5674634', 25)\n",
      "Unexpected error: list index out of range\n",
      "Curent page: 8, 25, ('5674634', 25)\n",
      "Unexpected error: list index out of range\n",
      "Curent page: 8, 25, ('5674634', 25)\n",
      "Unexpected error: list index out of range\n",
      "Curent page: 8, 25, ('5674634', 25)\n",
      "Unexpected error: list index out of range\n",
      "Curent page: 8, 25, ('5674634', 25)\n",
      "Unexpected error: list index out of range\n"
     ]
    },
    {
     "name": "stderr",
     "output_type": "stream",
     "text": [
      "\n",
      "100%|██████████| 10/10 [00:07<00:00,  1.42it/s]\u001b[A\n",
      " 50%|█████     | 1/2 [00:07<00:07,  7.05s/it]\n",
      "  0%|          | 0/10 [00:00<?, ?it/s]\u001b[A"
     ]
    },
    {
     "name": "stdout",
     "output_type": "stream",
     "text": [
      "Curent page: 9, 25, ('5674634', 25)\n",
      "Unexpected error: list index out of range\n",
      "Curent page: 9, 25, ('5674634', 25)\n",
      "Unexpected error: list index out of range\n",
      "Curent page: 9, 25, ('5674634', 25)\n",
      "Unexpected error: list index out of range\n",
      "Curent page: 9, 25, ('5674634', 25)\n",
      "Unexpected error: list index out of range\n",
      "Curent page: 9, 25, ('5674634', 25)\n",
      "Unexpected error: list index out of range\n",
      "Curent page: 9, 25, ('5674634', 25)\n",
      "Unexpected error: list index out of range\n",
      "Curent page: 9, 25, ('5674634', 25)\n",
      "Unexpected error: list index out of range\n",
      "Curent page: 9, 25, ('5674634', 25)\n",
      "Unexpected error: list index out of range\n",
      "Curent page: 9, 25, ('5674634', 25)\n",
      "Unexpected error: list index out of range\n",
      "Curent page: 9, 25, ('5674634', 25)\n",
      "Unexpected error: list index out of range\n",
      "Curent page: 9, 25, ('5674634', 25)\n",
      "Unexpected error: list index out of range\n",
      "Curent page: 9, 25, ('5674634', 25)\n",
      "Unexpected error: list index out of range\n",
      "Curent page: 9, 25, ('5674634', 25)\n",
      "Unexpected error: list index out of range\n",
      "Curent page: 9, 25, ('5674634', 25)\n",
      "Unexpected error: list index out of range\n",
      "Curent page: 9, 25, ('5674634', 25)\n",
      "Unexpected error: list index out of range\n"
     ]
    },
    {
     "name": "stderr",
     "output_type": "stream",
     "text": [
      "\n",
      " 10%|█         | 1/10 [00:00<00:07,  1.22it/s]\u001b[A\n",
      " 20%|██        | 2/10 [00:01<00:07,  1.03it/s]\u001b[A\n",
      " 30%|███       | 3/10 [00:02<00:06,  1.09it/s]\u001b[A\n",
      " 40%|████      | 4/10 [00:03<00:05,  1.18it/s]\u001b[A\n",
      " 50%|█████     | 5/10 [00:05<00:05,  1.09s/it]\u001b[A\n",
      " 60%|██████    | 6/10 [00:05<00:03,  1.05it/s]\u001b[A\n",
      " 70%|███████   | 7/10 [00:06<00:02,  1.15it/s]\u001b[A\n",
      " 80%|████████  | 8/10 [00:07<00:01,  1.19it/s]\u001b[A"
     ]
    },
    {
     "name": "stdout",
     "output_type": "stream",
     "text": [
      "Curent page: 7, 1, ('5676522', 1)\n",
      "Unexpected error: list index out of range\n",
      "Curent page: 7, 1, ('5676522', 1)\n",
      "Unexpected error: list index out of range\n",
      "Curent page: 7, 1, ('5676522', 1)\n",
      "Unexpected error: list index out of range\n",
      "Curent page: 7, 1, ('5676522', 1)\n",
      "Unexpected error: list index out of range\n",
      "Curent page: 7, 1, ('5676522', 1)\n",
      "Unexpected error: list index out of range\n"
     ]
    },
    {
     "name": "stderr",
     "output_type": "stream",
     "text": [
      "\n",
      " 90%|█████████ | 9/10 [00:07<00:00,  1.23it/s]\u001b[A"
     ]
    },
    {
     "name": "stdout",
     "output_type": "stream",
     "text": [
      "Curent page: 8, 1, ('5676522', 1)\n",
      "Unexpected error: list index out of range\n",
      "Curent page: 8, 1, ('5676522', 1)\n",
      "Unexpected error: list index out of range\n",
      "Curent page: 8, 1, ('5676522', 1)\n",
      "Unexpected error: list index out of range\n",
      "Curent page: 8, 1, ('5676522', 1)\n",
      "Unexpected error: list index out of range\n",
      "Curent page: 8, 1, ('5676522', 1)\n",
      "Unexpected error: list index out of range\n",
      "Curent page: 8, 1, ('5676522', 1)\n",
      "Unexpected error: list index out of range\n",
      "Curent page: 8, 1, ('5676522', 1)\n",
      "Unexpected error: list index out of range\n",
      "Curent page: 8, 1, ('5676522', 1)\n",
      "Unexpected error: list index out of range\n",
      "Curent page: 8, 1, ('5676522', 1)\n",
      "Unexpected error: list index out of range\n",
      "Curent page: 8, 1, ('5676522', 1)\n",
      "Unexpected error: list index out of range\n",
      "Curent page: 8, 1, ('5676522', 1)\n",
      "Unexpected error: list index out of range\n",
      "Curent page: 8, 1, ('5676522', 1)\n",
      "Unexpected error: list index out of range\n",
      "Curent page: 8, 1, ('5676522', 1)\n",
      "Unexpected error: list index out of range\n",
      "Curent page: 8, 1, ('5676522', 1)\n",
      "Unexpected error: list index out of range\n",
      "Curent page: 8, 1, ('5676522', 1)\n",
      "Unexpected error: list index out of range\n"
     ]
    },
    {
     "name": "stderr",
     "output_type": "stream",
     "text": [
      "\n",
      "100%|██████████| 10/10 [00:08<00:00,  1.17it/s]\u001b[A\n",
      "100%|██████████| 2/2 [00:15<00:00,  7.80s/it]"
     ]
    },
    {
     "name": "stdout",
     "output_type": "stream",
     "text": [
      "Curent page: 9, 1, ('5676522', 1)\n",
      "Unexpected error: list index out of range\n",
      "Curent page: 9, 1, ('5676522', 1)\n",
      "Unexpected error: list index out of range\n",
      "Curent page: 9, 1, ('5676522', 1)\n",
      "Unexpected error: list index out of range\n",
      "Curent page: 9, 1, ('5676522', 1)\n",
      "Unexpected error: list index out of range\n",
      "Curent page: 9, 1, ('5676522', 1)\n",
      "Unexpected error: list index out of range\n",
      "Curent page: 9, 1, ('5676522', 1)\n",
      "Unexpected error: list index out of range\n",
      "Curent page: 9, 1, ('5676522', 1)\n",
      "Unexpected error: list index out of range\n",
      "Curent page: 9, 1, ('5676522', 1)\n",
      "Unexpected error: list index out of range\n",
      "Curent page: 9, 1, ('5676522', 1)\n",
      "Unexpected error: list index out of range\n",
      "Curent page: 9, 1, ('5676522', 1)\n",
      "Unexpected error: list index out of range\n",
      "Curent page: 9, 1, ('5676522', 1)\n",
      "Unexpected error: list index out of range\n",
      "Curent page: 9, 1, ('5676522', 1)\n",
      "Unexpected error: list index out of range\n",
      "Curent page: 9, 1, ('5676522', 1)\n",
      "Unexpected error: list index out of range\n",
      "Curent page: 9, 1, ('5676522', 1)\n",
      "Unexpected error: list index out of range\n",
      "Curent page: 9, 1, ('5676522', 1)\n",
      "Unexpected error: list index out of range\n"
     ]
    },
    {
     "name": "stderr",
     "output_type": "stream",
     "text": [
      "\n"
     ]
    }
   ],
   "source": [
    "jobs = extract_jobs(0,10)"
   ]
  },
  {
   "cell_type": "code",
   "execution_count": 49,
   "id": "603de8ec-3a58-4916-9365-25b504ba6f31",
   "metadata": {},
   "outputs": [
    {
     "data": {
      "text/html": [
       "<div>\n",
       "<style scoped>\n",
       "    .dataframe tbody tr th:only-of-type {\n",
       "        vertical-align: middle;\n",
       "    }\n",
       "\n",
       "    .dataframe tbody tr th {\n",
       "        vertical-align: top;\n",
       "    }\n",
       "\n",
       "    .dataframe thead th {\n",
       "        text-align: right;\n",
       "    }\n",
       "</style>\n",
       "<table border=\"1\" class=\"dataframe\">\n",
       "  <thead>\n",
       "    <tr style=\"text-align: right;\">\n",
       "      <th></th>\n",
       "      <th>position_id</th>\n",
       "      <th>category</th>\n",
       "    </tr>\n",
       "  </thead>\n",
       "  <tbody>\n",
       "    <tr>\n",
       "      <th>0</th>\n",
       "      <td>5720106</td>\n",
       "      <td>25</td>\n",
       "    </tr>\n",
       "    <tr>\n",
       "      <th>1</th>\n",
       "      <td>5710686</td>\n",
       "      <td>25</td>\n",
       "    </tr>\n",
       "    <tr>\n",
       "      <th>2</th>\n",
       "      <td>5682661</td>\n",
       "      <td>25</td>\n",
       "    </tr>\n",
       "    <tr>\n",
       "      <th>3</th>\n",
       "      <td>5718103</td>\n",
       "      <td>25</td>\n",
       "    </tr>\n",
       "    <tr>\n",
       "      <th>4</th>\n",
       "      <td>5705002</td>\n",
       "      <td>25</td>\n",
       "    </tr>\n",
       "    <tr>\n",
       "      <th>...</th>\n",
       "      <td>...</td>\n",
       "      <td>...</td>\n",
       "    </tr>\n",
       "    <tr>\n",
       "      <th>207</th>\n",
       "      <td>5682840</td>\n",
       "      <td>1</td>\n",
       "    </tr>\n",
       "    <tr>\n",
       "      <th>208</th>\n",
       "      <td>5682230</td>\n",
       "      <td>1</td>\n",
       "    </tr>\n",
       "    <tr>\n",
       "      <th>209</th>\n",
       "      <td>5681478</td>\n",
       "      <td>1</td>\n",
       "    </tr>\n",
       "    <tr>\n",
       "      <th>210</th>\n",
       "      <td>5681473</td>\n",
       "      <td>1</td>\n",
       "    </tr>\n",
       "    <tr>\n",
       "      <th>211</th>\n",
       "      <td>5676522</td>\n",
       "      <td>1</td>\n",
       "    </tr>\n",
       "  </tbody>\n",
       "</table>\n",
       "<p>212 rows × 2 columns</p>\n",
       "</div>"
      ],
      "text/plain": [
       "    position_id  category\n",
       "0       5720106        25\n",
       "1       5710686        25\n",
       "2       5682661        25\n",
       "3       5718103        25\n",
       "4       5705002        25\n",
       "..          ...       ...\n",
       "207     5682840         1\n",
       "208     5682230         1\n",
       "209     5681478         1\n",
       "210     5681473         1\n",
       "211     5676522         1\n",
       "\n",
       "[212 rows x 2 columns]"
      ]
     },
     "execution_count": 49,
     "metadata": {},
     "output_type": "execute_result"
    }
   ],
   "source": [
    "jobs"
   ]
  },
  {
   "cell_type": "code",
   "execution_count": 137,
   "id": "9b47ba08-9ca8-4d6b-8cdb-3458760c6bc1",
   "metadata": {},
   "outputs": [],
   "source": [
    "def extract_jobs(start_page, end_page):\n",
    "    \"\"\"\"\"\"\n",
    "    position_category_list = []\n",
    "\n",
    "#    for category in tqdm.tqdm(extract_categories_dataframe()):\n",
    "        \n",
    "    for page in tqdm.tqdm(range(start_page, end_page)):\n",
    "\n",
    "        try:\n",
    "            # This is the base url looping through all categories and specified pages in order\n",
    "            url = \"https://www.jobs.bg/front_job_search.php?frompage={}&add_sh=1&categories%5B0%5D={}&term=#paging\".format(page*15, 25)\n",
    "\n",
    "            r = driver.get(url)\n",
    "            html = driver.execute_script(\"return document.documentElement.outerHTML\")\n",
    "            soup = BeautifulSoup(html, 'html.parser')\n",
    "            class_id_elem = 'card__title mdc-typography mdc-typography--headline6 text-overflow'\n",
    "            id_elem = soup.find_all('a',attrs={'class':class_id_elem})\n",
    "        except Exception as e:\n",
    "            print(f\"Page number: {page}, url: {url}\")\n",
    "            print(f\"Unexpected error: {e.message}\")\n",
    "\n",
    "        for i in range(0,15,1):\n",
    "            try:\n",
    "                position_id = id_elem[i]['href'].lstrip('job/')\n",
    "                position_id = (position_id, \"25\")\n",
    "                position_category_list.append(position_id)\n",
    "                \n",
    "            except Exception as e:\n",
    "                print(f\"Curent page: {page}, problem with the {i}, {i+1}, {i+2} tds\")\n",
    "                print(f\"Unexpected error: {e}\")\n",
    "\n",
    "    df_columns = [\"position_id\", \"category\"]\n",
    "    \n",
    "    position_categofy_df = pd.DataFrame(position_category_list, columns=df_columns)\n",
    "\n",
    "    return position_categofy_df"
   ]
  },
  {
   "cell_type": "code",
   "execution_count": 141,
   "id": "2664bd17-d76a-499e-9e0b-673621e3e308",
   "metadata": {},
   "outputs": [
    {
     "name": "stderr",
     "output_type": "stream",
     "text": [
      "100%|██████████| 1/1 [00:00<00:00,  1.36it/s]\n"
     ]
    }
   ],
   "source": [
    "jobs_tf = extract_jobs(0,1)"
   ]
  },
  {
   "cell_type": "code",
   "execution_count": 142,
   "id": "b41578ab-0f91-4257-a8e9-08a187865845",
   "metadata": {},
   "outputs": [
    {
     "data": {
      "text/html": [
       "<div>\n",
       "<style scoped>\n",
       "    .dataframe tbody tr th:only-of-type {\n",
       "        vertical-align: middle;\n",
       "    }\n",
       "\n",
       "    .dataframe tbody tr th {\n",
       "        vertical-align: top;\n",
       "    }\n",
       "\n",
       "    .dataframe thead th {\n",
       "        text-align: right;\n",
       "    }\n",
       "</style>\n",
       "<table border=\"1\" class=\"dataframe\">\n",
       "  <thead>\n",
       "    <tr style=\"text-align: right;\">\n",
       "      <th></th>\n",
       "      <th>position_id</th>\n",
       "      <th>Category</th>\n",
       "    </tr>\n",
       "  </thead>\n",
       "  <tbody>\n",
       "    <tr>\n",
       "      <th>0</th>\n",
       "      <td>5710686</td>\n",
       "      <td>25</td>\n",
       "    </tr>\n",
       "    <tr>\n",
       "      <th>1</th>\n",
       "      <td>5682661</td>\n",
       "      <td>25</td>\n",
       "    </tr>\n",
       "    <tr>\n",
       "      <th>2</th>\n",
       "      <td>5718103</td>\n",
       "      <td>25</td>\n",
       "    </tr>\n",
       "    <tr>\n",
       "      <th>3</th>\n",
       "      <td>5705002</td>\n",
       "      <td>25</td>\n",
       "    </tr>\n",
       "    <tr>\n",
       "      <th>4</th>\n",
       "      <td>5702689</td>\n",
       "      <td>25</td>\n",
       "    </tr>\n",
       "    <tr>\n",
       "      <th>5</th>\n",
       "      <td>5718833</td>\n",
       "      <td>25</td>\n",
       "    </tr>\n",
       "    <tr>\n",
       "      <th>6</th>\n",
       "      <td>5707300</td>\n",
       "      <td>25</td>\n",
       "    </tr>\n",
       "    <tr>\n",
       "      <th>7</th>\n",
       "      <td>5687462</td>\n",
       "      <td>25</td>\n",
       "    </tr>\n",
       "    <tr>\n",
       "      <th>8</th>\n",
       "      <td>5686419</td>\n",
       "      <td>25</td>\n",
       "    </tr>\n",
       "    <tr>\n",
       "      <th>9</th>\n",
       "      <td>5675643</td>\n",
       "      <td>25</td>\n",
       "    </tr>\n",
       "    <tr>\n",
       "      <th>10</th>\n",
       "      <td>5711626</td>\n",
       "      <td>25</td>\n",
       "    </tr>\n",
       "    <tr>\n",
       "      <th>11</th>\n",
       "      <td>5713953</td>\n",
       "      <td>25</td>\n",
       "    </tr>\n",
       "    <tr>\n",
       "      <th>12</th>\n",
       "      <td>5713055</td>\n",
       "      <td>25</td>\n",
       "    </tr>\n",
       "    <tr>\n",
       "      <th>13</th>\n",
       "      <td>5703966</td>\n",
       "      <td>25</td>\n",
       "    </tr>\n",
       "    <tr>\n",
       "      <th>14</th>\n",
       "      <td>5701687</td>\n",
       "      <td>25</td>\n",
       "    </tr>\n",
       "  </tbody>\n",
       "</table>\n",
       "</div>"
      ],
      "text/plain": [
       "   position_id Category\n",
       "0      5710686       25\n",
       "1      5682661       25\n",
       "2      5718103       25\n",
       "3      5705002       25\n",
       "4      5702689       25\n",
       "5      5718833       25\n",
       "6      5707300       25\n",
       "7      5687462       25\n",
       "8      5686419       25\n",
       "9      5675643       25\n",
       "10     5711626       25\n",
       "11     5713953       25\n",
       "12     5713055       25\n",
       "13     5703966       25\n",
       "14     5701687       25"
      ]
     },
     "execution_count": 142,
     "metadata": {},
     "output_type": "execute_result"
    }
   ],
   "source": [
    "jobs_tf"
   ]
  },
  {
   "cell_type": "code",
   "execution_count": null,
   "id": "8d7a385a-3274-42c1-bbe6-8bb875d9b3f5",
   "metadata": {},
   "outputs": [],
   "source": []
  }
 ],
 "metadata": {
  "kernelspec": {
   "display_name": "Python 3",
   "language": "python",
   "name": "python3"
  },
  "language_info": {
   "codemirror_mode": {
    "name": "ipython",
    "version": 3
   },
   "file_extension": ".py",
   "mimetype": "text/x-python",
   "name": "python",
   "nbconvert_exporter": "python",
   "pygments_lexer": "ipython3",
   "version": "3.8.8"
  }
 },
 "nbformat": 4,
 "nbformat_minor": 5
}
