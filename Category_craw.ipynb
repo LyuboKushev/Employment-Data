{
 "cells": [
  {
   "cell_type": "markdown",
   "id": "1900cfe5-9399-4052-bf19-a75bf8af917a",
   "metadata": {
    "id": "1900cfe5-9399-4052-bf19-a75bf8af917a"
   },
   "source": [
    "# Installing all the needed packages (Run this only if you're using the Google Collab)"
   ]
  },
  {
   "cell_type": "code",
   "execution_count": 3,
   "id": "9CWppAAdbBg-",
   "metadata": {
    "colab": {
     "base_uri": "https://localhost:8080/"
    },
    "id": "9CWppAAdbBg-",
    "outputId": "569c9ee6-9ef4-45ec-9dfc-56c6d7b6470c"
   },
   "outputs": [
    {
     "name": "stdout",
     "output_type": "stream",
     "text": [
      "Get:1 http://security.ubuntu.com/ubuntu bionic-security InRelease [88.7 kB]\n",
      "Hit:2 https://cloud.r-project.org/bin/linux/ubuntu bionic-cran40/ InRelease    \n",
      "Ign:3 https://developer.download.nvidia.com/compute/cuda/repos/ubuntu1804/x86_64  InRelease\n",
      "Hit:4 http://ppa.launchpad.net/c2d4u.team/c2d4u4.0+/ubuntu bionic InRelease    \n",
      "Ign:5 https://developer.download.nvidia.com/compute/machine-learning/repos/ubuntu1804/x86_64  InRelease\n",
      "Hit:6 https://developer.download.nvidia.com/compute/cuda/repos/ubuntu1804/x86_64  Release\n",
      "Hit:7 https://developer.download.nvidia.com/compute/machine-learning/repos/ubuntu1804/x86_64  Release\n",
      "Hit:8 http://archive.ubuntu.com/ubuntu bionic InRelease\n",
      "Hit:9 http://ppa.launchpad.net/cran/libgit2/ubuntu bionic InRelease\n",
      "Get:10 http://archive.ubuntu.com/ubuntu bionic-updates InRelease [88.7 kB]\n",
      "Hit:11 http://ppa.launchpad.net/deadsnakes/ppa/ubuntu bionic InRelease\n",
      "Get:12 http://archive.ubuntu.com/ubuntu bionic-backports InRelease [74.6 kB]\n",
      "Hit:13 http://ppa.launchpad.net/graphics-drivers/ppa/ubuntu bionic InRelease\n",
      "Fetched 252 kB in 3s (99.0 kB/s)\n",
      "Reading package lists... Done\n",
      "Reading package lists... Done\n",
      "Building dependency tree       \n",
      "Reading state information... Done\n",
      "chromium-chromedriver is already the newest version (91.0.4472.77-0ubuntu0.18.04.1).\n",
      "0 upgraded, 0 newly installed, 0 to remove and 48 not upgraded.\n",
      "Requirement already satisfied: selenium in /usr/local/lib/python3.7/dist-packages (3.141.0)\n",
      "Requirement already satisfied: urllib3 in /usr/local/lib/python3.7/dist-packages (from selenium) (1.24.3)\n",
      "Requirement already satisfied: beautifulsoup4 in /usr/local/lib/python3.7/dist-packages (4.6.3)\n",
      "cp: '/usr/lib/chromium-browser/chromedriver' and '/usr/bin/chromedriver' are the same file\n"
     ]
    }
   ],
   "source": [
    "# apt-get handle the installation and removal of software on Debian, Ubuntu, and related Linux distributions\n",
    "!apt-get update\n",
    "\n",
    "# installing needed packages\n",
    "!apt install chromium-chromedriver\n",
    "!pip install selenium\n",
    "!pip install beautifulsoup4\n",
    "\n",
    "# Copy the chromedriver\n",
    "!cp /usr/lib/chromium-browser/chromedriver /usr/bin\n",
    "\n",
    "import sys\n",
    "# This make sure that the selenium chromedriver is in the path\n",
    "sys.path.insert(0,'/usr/lib/chromium-browser/chromedriver')"
   ]
  },
  {
   "cell_type": "markdown",
   "id": "963061ad-0235-4a17-a94e-d2eca42ed971",
   "metadata": {},
   "source": [
    "# Settings all imports"
   ]
  },
  {
   "cell_type": "code",
   "execution_count": 4,
   "id": "7f2f3050-2aa1-4add-83e7-edea857ad741",
   "metadata": {
    "colab": {
     "base_uri": "https://localhost:8080/"
    },
    "id": "7f2f3050-2aa1-4add-83e7-edea857ad741",
    "outputId": "067a7d01-17e0-40a2-caf5-f7ec2bdb6597"
   },
   "outputs": [
    {
     "name": "stdout",
     "output_type": "stream",
     "text": [
      "Drive already mounted at /content/ShardDrives; to attempt to forcibly remount, call drive.mount(\"/content/ShardDrives\", force_remount=True).\n"
     ]
    }
   ],
   "source": [
    "from google.colab import drive\n",
    "#drive.mount(\"/content/drive\")\n",
    "drive.mount(\"/content/ShardDrives\")\n",
    "\n",
    "import tqdm\n",
    "import requests\n",
    "import urllib.request\n",
    "\n",
    "import numpy as np\n",
    "import pandas as pd\n",
    "\n",
    "from datetime import date, timedelta\n",
    "from selenium.webdriver.common.by import By\n",
    "from selenium import webdriver\n",
    "from selenium.webdriver.chrome.options import Options\n",
    "from bs4 import BeautifulSoup\n",
    "from bs4.element import Comment\n",
    "# from google.colab import drive"
   ]
  },
  {
   "cell_type": "markdown",
   "id": "2c2fbc70-4ab8-476d-b9ae-53d8a2b2e425",
   "metadata": {
    "id": "2c2fbc70-4ab8-476d-b9ae-53d8a2b2e425"
   },
   "source": [
    "# Create a web driver based on operating system. Please change the value of the `OPERATING_SYSTEM` constant to run this notebook on your system"
   ]
  },
  {
   "cell_type": "code",
   "execution_count": 5,
   "id": "7fd2d0a8-e66c-405f-a78c-8ffce41a3ec7",
   "metadata": {
    "colab": {
     "base_uri": "https://localhost:8080/",
     "height": 54
    },
    "id": "7fd2d0a8-e66c-405f-a78c-8ffce41a3ec7",
    "outputId": "2c9f84f4-1183-4c8d-97e3-ffb688fa9f34"
   },
   "outputs": [
    {
     "data": {
      "application/vnd.google.colaboratory.intrinsic+json": {
       "type": "string"
      },
      "text/plain": [
       "'url = \\'https://www.jobs.bg/front_job_search.php?frompage=0&add_sh=1&from_hp=1&term=#paging\\'\\nr = driver.get(url)\\nhtml = driver.execute_script(\"return document.documentElement.outerHTML\")\\nsoup = BeautifulSoup(html, \\'html.parser\\')'"
      ]
     },
     "execution_count": 5,
     "metadata": {
      "tags": []
     },
     "output_type": "execute_result"
    }
   ],
   "source": [
    "OPERATING_SYSTEM = \"linux\"\n",
    "\n",
    "if OPERATING_SYSTEM == \"windows\":\n",
    "    executable_path = \"drivers/windows/chromedriver.exe\"\n",
    "elif OPERATING_SYSTEM == \"mac\":\n",
    "    executable_path = \"drivers/mac/chromedriver\"\n",
    "elif OPERATING_SYSTEM == \"linux\":\n",
    "    executable_path = \"chromedriver\"\n",
    "\n",
    "base_url = 'https://www.jobs.bg/'\n",
    "\n",
    "chrome_options = webdriver.ChromeOptions()\n",
    "chrome_options.add_argument('--headless')\n",
    "chrome_options.add_argument('--no-sandbox')\n",
    "chrome_options.add_argument('--disable-dev-shm-usage')\n",
    "driver = webdriver.Chrome(executable_path=executable_path, options=chrome_options)\n",
    "\n",
    "\n",
    "\"\"\"url = 'https://www.jobs.bg/front_job_search.php?frompage=0&add_sh=1&from_hp=1&term=#paging'\n",
    "r = driver.get(url)\n",
    "html = driver.execute_script(\"return document.documentElement.outerHTML\")\n",
    "soup = BeautifulSoup(html, 'html.parser')\"\"\""
   ]
  },
  {
   "cell_type": "markdown",
   "id": "1bef0728-1d75-4cd3-b252-820a0627edc2",
   "metadata": {
    "id": "1bef0728-1d75-4cd3-b252-820a0627edc2"
   },
   "source": [
    "# Extracting the category names and ids so we can perform filters based on category"
   ]
  },
  {
   "cell_type": "code",
   "execution_count": 6,
   "id": "70cc087b-e8d3-4b26-9aec-03f12a119da3",
   "metadata": {
    "id": "70cc087b-e8d3-4b26-9aec-03f12a119da3"
   },
   "outputs": [],
   "source": [
    "def extract_categories_dataframe():\n",
    "    \"\"\"\"\"\"\n",
    "    url = \"https://www.jobs.bg/index.php\"\n",
    "    r = driver.get(url)\n",
    "    categories_button = driver.find_element_by_id(\"categoriesChip\")\n",
    "    categories_button.click()\n",
    "    html = driver.execute_script(\"return document.documentElement.outerHTML\")\n",
    "    soup = BeautifulSoup(html, 'html.parser')\n",
    "\n",
    "    categories_elem = soup.find('div',attrs={'id':'categoriesSelectSheet'})\n",
    "    categories_elements = categories_elem.find_all(\"div\", attrs={\"class\": \"mdc-chip mdc-ripple-upgraded\"})\n",
    "\n",
    "    categories_info = []\n",
    "    categories_info.append((56))\n",
    "\n",
    "    for category_element in categories_elements:\n",
    "        category_id = category_element['id'].split(\"_\")[-1]\n",
    "        category_id = int(category_id)\n",
    "        categories_info.append(category_id)\n",
    "\n",
    "    #categories_info = pd.DataFrame(categories_info, columns=[\"category_id\"])\n",
    "\n",
    "    return categories_info"
   ]
  },
  {
   "cell_type": "code",
   "execution_count": 7,
   "id": "0ce546e7-df91-4c66-b18a-bcb3281818e2",
   "metadata": {
    "colab": {
     "base_uri": "https://localhost:8080/"
    },
    "id": "0ce546e7-df91-4c66-b18a-bcb3281818e2",
    "outputId": "71744e0e-0166-4f09-a0aa-9a02447e8bfd"
   },
   "outputs": [
    {
     "data": {
      "text/plain": [
       "[25, 1]"
      ]
     },
     "execution_count": 7,
     "metadata": {
      "tags": []
     },
     "output_type": "execute_result"
    }
   ],
   "source": [
    "cats_selected = [25, 1]\n",
    "cats_selected"
   ]
  },
  {
   "cell_type": "code",
   "execution_count": 8,
   "id": "1a2f2738-a7e2-4043-a17f-4cae910649b4",
   "metadata": {
    "id": "1a2f2738-a7e2-4043-a17f-4cae910649b4"
   },
   "outputs": [],
   "source": [
    "def get_position_id(text_info_elem):\n",
    "    \"\"\"\n",
    "    \"\"\"\n",
    "    class_id_elem = 'card__title mdc-typography mdc-typography--headline6 text-overflow'\n",
    "    id_elem = text_info_elem.find('a',attrs={'class':class_id_elem})['href']\n",
    "    position_id = id_elem.lstrip('job/')\n",
    "    \n",
    "    return position_id\n",
    "\n",
    "def extract_job_position_id_as_array(base_url, text_info_elem): # , job_company_elem):\n",
    "    \"\"\"\n",
    "    \"\"\"\n",
    "    position_id = get_position_id(text_info_elem)\n",
    "\n",
    "    current_job_info = [position_id]\n",
    "    \n",
    "    return current_job_info"
   ]
  },
  {
   "cell_type": "code",
   "execution_count": 9,
   "id": "e3162494-d334-4729-82bd-0fd5293b1299",
   "metadata": {
    "id": "e3162494-d334-4729-82bd-0fd5293b1299"
   },
   "outputs": [],
   "source": [
    "def extract_jobs(start_page, end_page):\n",
    "    \"\"\"\"\"\"\n",
    "    position_category_list = []\n",
    "\n",
    "    for category in tqdm.tqdm(cats_selected):\n",
    "        for page in tqdm.tqdm(range(start_page, end_page)):\n",
    "    \n",
    "            try:\n",
    "                # This is the base url looping through all categories and specified pages in order\n",
    "                url = \"https://www.jobs.bg/front_job_search.php?frompage={}&add_sh=1&categories%5B0%5D={}&term=#paging\".format(page*15, category)\n",
    "              \n",
    "                r = driver.get(url)\n",
    "                html = driver.execute_script(\"return document.documentElement.outerHTML\")\n",
    "                soup = BeautifulSoup(html, 'html.parser')\n",
    "                \n",
    "                class_id_elem = 'card__title mdc-typography mdc-typography--headline6 text-overflow'\n",
    "                id_elem = soup.find_all('a',attrs={'class':class_id_elem})\n",
    "            except Exception as e:\n",
    "                print(f\"Page number: {page}, url: {url}\")\n",
    "                print(f\"Unexpected error: {e.message}\")\n",
    "\n",
    "            for i in range(0,15,1):\n",
    "                try:\n",
    "                    position_id = id_elem[i]['href'].lstrip('job/')\n",
    "                    position_id = (position_id, category)\n",
    "                    position_category_list.append(position_id)\n",
    "\n",
    "                except Exception as e:\n",
    "                    print(f\"Curent page: {page}, {category}, {position_id}\")\n",
    "                    print(f\"Unexpected error: {e}\")\n",
    "\n",
    "    df_columns = [\"position_id\", \"category\"]\n",
    "\n",
    "    position_categofy_df = pd.DataFrame(position_category_list, columns=df_columns)\n",
    "\n",
    "    return position_categofy_df"
   ]
  },
  {
   "cell_type": "code",
   "execution_count": 10,
   "id": "ccd3f77c-3023-4841-9552-848b9387445a",
   "metadata": {
    "colab": {
     "base_uri": "https://localhost:8080/"
    },
    "id": "ccd3f77c-3023-4841-9552-848b9387445a",
    "outputId": "773abc39-dac5-482b-c91e-e23fa001bc44"
   },
   "outputs": [
    {
     "name": "stderr",
     "output_type": "stream",
     "text": [
      "  0%|          | 0/2 [00:00<?, ?it/s]\n",
      "  0%|          | 0/10 [00:00<?, ?it/s]\u001b[A\n",
      " 10%|█         | 1/10 [00:03<00:27,  3.07s/it]\u001b[A\n",
      " 20%|██        | 2/10 [00:04<00:19,  2.46s/it]\u001b[A\n",
      " 30%|███       | 3/10 [00:05<00:14,  2.02s/it]\u001b[A\n",
      " 40%|████      | 4/10 [00:06<00:10,  1.71s/it]\u001b[A\n",
      " 50%|█████     | 5/10 [00:07<00:07,  1.51s/it]\u001b[A\n",
      " 60%|██████    | 6/10 [00:08<00:05,  1.35s/it]\u001b[A\n",
      " 70%|███████   | 7/10 [00:08<00:03,  1.17s/it]\u001b[A"
     ]
    },
    {
     "name": "stdout",
     "output_type": "stream",
     "text": [
      "Curent page: 6, 25, ('5691208', 25)\n",
      "Unexpected error: list index out of range\n",
      "Curent page: 6, 25, ('5691208', 25)\n",
      "Unexpected error: list index out of range\n",
      "Curent page: 6, 25, ('5691208', 25)\n",
      "Unexpected error: list index out of range\n",
      "Curent page: 6, 25, ('5691208', 25)\n",
      "Unexpected error: list index out of range\n",
      "Curent page: 6, 25, ('5691208', 25)\n",
      "Unexpected error: list index out of range\n",
      "Curent page: 6, 25, ('5691208', 25)\n",
      "Unexpected error: list index out of range\n",
      "Curent page: 6, 25, ('5691208', 25)\n",
      "Unexpected error: list index out of range\n",
      "Curent page: 6, 25, ('5691208', 25)\n",
      "Unexpected error: list index out of range\n",
      "Curent page: 6, 25, ('5691208', 25)\n",
      "Unexpected error: list index out of range\n",
      "Curent page: 6, 25, ('5691208', 25)\n",
      "Unexpected error: list index out of range\n",
      "Curent page: 6, 25, ('5691208', 25)\n",
      "Unexpected error: list index out of range\n",
      "Curent page: 6, 25, ('5691208', 25)\n",
      "Unexpected error: list index out of range\n",
      "Curent page: 6, 25, ('5691208', 25)\n",
      "Unexpected error: list index out of range\n",
      "Curent page: 6, 25, ('5691208', 25)\n",
      "Unexpected error: list index out of range\n",
      "Curent page: 6, 25, ('5691208', 25)\n",
      "Unexpected error: list index out of range\n"
     ]
    },
    {
     "name": "stderr",
     "output_type": "stream",
     "text": [
      "\n",
      " 80%|████████  | 8/10 [00:09<00:02,  1.05s/it]\u001b[A"
     ]
    },
    {
     "name": "stdout",
     "output_type": "stream",
     "text": [
      "Curent page: 7, 25, ('5691208', 25)\n",
      "Unexpected error: list index out of range\n",
      "Curent page: 7, 25, ('5691208', 25)\n",
      "Unexpected error: list index out of range\n",
      "Curent page: 7, 25, ('5691208', 25)\n",
      "Unexpected error: list index out of range\n",
      "Curent page: 7, 25, ('5691208', 25)\n",
      "Unexpected error: list index out of range\n",
      "Curent page: 7, 25, ('5691208', 25)\n",
      "Unexpected error: list index out of range\n",
      "Curent page: 7, 25, ('5691208', 25)\n",
      "Unexpected error: list index out of range\n",
      "Curent page: 7, 25, ('5691208', 25)\n",
      "Unexpected error: list index out of range\n",
      "Curent page: 7, 25, ('5691208', 25)\n",
      "Unexpected error: list index out of range\n",
      "Curent page: 7, 25, ('5691208', 25)\n",
      "Unexpected error: list index out of range\n",
      "Curent page: 7, 25, ('5691208', 25)\n",
      "Unexpected error: list index out of range\n",
      "Curent page: 7, 25, ('5691208', 25)\n",
      "Unexpected error: list index out of range\n",
      "Curent page: 7, 25, ('5691208', 25)\n",
      "Unexpected error: list index out of range\n",
      "Curent page: 7, 25, ('5691208', 25)\n",
      "Unexpected error: list index out of range\n",
      "Curent page: 7, 25, ('5691208', 25)\n",
      "Unexpected error: list index out of range\n",
      "Curent page: 7, 25, ('5691208', 25)\n",
      "Unexpected error: list index out of range\n"
     ]
    },
    {
     "name": "stderr",
     "output_type": "stream",
     "text": [
      "\n",
      " 90%|█████████ | 9/10 [00:10<00:00,  1.02it/s]\u001b[A"
     ]
    },
    {
     "name": "stdout",
     "output_type": "stream",
     "text": [
      "Curent page: 8, 25, ('5691208', 25)\n",
      "Unexpected error: list index out of range\n",
      "Curent page: 8, 25, ('5691208', 25)\n",
      "Unexpected error: list index out of range\n",
      "Curent page: 8, 25, ('5691208', 25)\n",
      "Unexpected error: list index out of range\n",
      "Curent page: 8, 25, ('5691208', 25)\n",
      "Unexpected error: list index out of range\n",
      "Curent page: 8, 25, ('5691208', 25)\n",
      "Unexpected error: list index out of range\n",
      "Curent page: 8, 25, ('5691208', 25)\n",
      "Unexpected error: list index out of range\n",
      "Curent page: 8, 25, ('5691208', 25)\n",
      "Unexpected error: list index out of range\n",
      "Curent page: 8, 25, ('5691208', 25)\n",
      "Unexpected error: list index out of range\n",
      "Curent page: 8, 25, ('5691208', 25)\n",
      "Unexpected error: list index out of range\n",
      "Curent page: 8, 25, ('5691208', 25)\n",
      "Unexpected error: list index out of range\n",
      "Curent page: 8, 25, ('5691208', 25)\n",
      "Unexpected error: list index out of range\n",
      "Curent page: 8, 25, ('5691208', 25)\n",
      "Unexpected error: list index out of range\n",
      "Curent page: 8, 25, ('5691208', 25)\n",
      "Unexpected error: list index out of range\n",
      "Curent page: 8, 25, ('5691208', 25)\n",
      "Unexpected error: list index out of range\n",
      "Curent page: 8, 25, ('5691208', 25)\n",
      "Unexpected error: list index out of range\n"
     ]
    },
    {
     "name": "stderr",
     "output_type": "stream",
     "text": [
      "\n",
      "100%|██████████| 10/10 [00:11<00:00,  1.14s/it]\n",
      " 50%|█████     | 1/2 [00:11<00:11, 11.40s/it]\n",
      "  0%|          | 0/10 [00:00<?, ?it/s]\u001b[A"
     ]
    },
    {
     "name": "stdout",
     "output_type": "stream",
     "text": [
      "Curent page: 9, 25, ('5691208', 25)\n",
      "Unexpected error: list index out of range\n",
      "Curent page: 9, 25, ('5691208', 25)\n",
      "Unexpected error: list index out of range\n",
      "Curent page: 9, 25, ('5691208', 25)\n",
      "Unexpected error: list index out of range\n",
      "Curent page: 9, 25, ('5691208', 25)\n",
      "Unexpected error: list index out of range\n",
      "Curent page: 9, 25, ('5691208', 25)\n",
      "Unexpected error: list index out of range\n",
      "Curent page: 9, 25, ('5691208', 25)\n",
      "Unexpected error: list index out of range\n",
      "Curent page: 9, 25, ('5691208', 25)\n",
      "Unexpected error: list index out of range\n",
      "Curent page: 9, 25, ('5691208', 25)\n",
      "Unexpected error: list index out of range\n",
      "Curent page: 9, 25, ('5691208', 25)\n",
      "Unexpected error: list index out of range\n",
      "Curent page: 9, 25, ('5691208', 25)\n",
      "Unexpected error: list index out of range\n",
      "Curent page: 9, 25, ('5691208', 25)\n",
      "Unexpected error: list index out of range\n",
      "Curent page: 9, 25, ('5691208', 25)\n",
      "Unexpected error: list index out of range\n",
      "Curent page: 9, 25, ('5691208', 25)\n",
      "Unexpected error: list index out of range\n",
      "Curent page: 9, 25, ('5691208', 25)\n",
      "Unexpected error: list index out of range\n",
      "Curent page: 9, 25, ('5691208', 25)\n",
      "Unexpected error: list index out of range\n"
     ]
    },
    {
     "name": "stderr",
     "output_type": "stream",
     "text": [
      "\n",
      " 10%|█         | 1/10 [00:00<00:08,  1.01it/s]\u001b[A\n",
      " 20%|██        | 2/10 [00:02<00:08,  1.00s/it]\u001b[A\n",
      " 30%|███       | 3/10 [00:03<00:06,  1.00it/s]\u001b[A\n",
      " 40%|████      | 4/10 [00:03<00:05,  1.02it/s]\u001b[A\n",
      " 50%|█████     | 5/10 [00:05<00:05,  1.02s/it]\u001b[A\n",
      " 60%|██████    | 6/10 [00:06<00:04,  1.01s/it]\u001b[A\n",
      " 70%|███████   | 7/10 [00:07<00:03,  1.03s/it]\u001b[A\n",
      " 80%|████████  | 8/10 [00:08<00:02,  1.02s/it]\u001b[A"
     ]
    },
    {
     "name": "stdout",
     "output_type": "stream",
     "text": [
      "Curent page: 7, 1, ('5691986', 1)\n",
      "Unexpected error: list index out of range\n",
      "Curent page: 7, 1, ('5691986', 1)\n",
      "Unexpected error: list index out of range\n",
      "Curent page: 7, 1, ('5691986', 1)\n",
      "Unexpected error: list index out of range\n",
      "Curent page: 7, 1, ('5691986', 1)\n",
      "Unexpected error: list index out of range\n",
      "Curent page: 7, 1, ('5691986', 1)\n",
      "Unexpected error: list index out of range\n"
     ]
    },
    {
     "name": "stderr",
     "output_type": "stream",
     "text": [
      "\n",
      " 90%|█████████ | 9/10 [00:08<00:00,  1.05it/s]\u001b[A"
     ]
    },
    {
     "name": "stdout",
     "output_type": "stream",
     "text": [
      "Curent page: 8, 1, ('5691986', 1)\n",
      "Unexpected error: list index out of range\n",
      "Curent page: 8, 1, ('5691986', 1)\n",
      "Unexpected error: list index out of range\n",
      "Curent page: 8, 1, ('5691986', 1)\n",
      "Unexpected error: list index out of range\n",
      "Curent page: 8, 1, ('5691986', 1)\n",
      "Unexpected error: list index out of range\n",
      "Curent page: 8, 1, ('5691986', 1)\n",
      "Unexpected error: list index out of range\n",
      "Curent page: 8, 1, ('5691986', 1)\n",
      "Unexpected error: list index out of range\n",
      "Curent page: 8, 1, ('5691986', 1)\n",
      "Unexpected error: list index out of range\n",
      "Curent page: 8, 1, ('5691986', 1)\n",
      "Unexpected error: list index out of range\n",
      "Curent page: 8, 1, ('5691986', 1)\n",
      "Unexpected error: list index out of range\n",
      "Curent page: 8, 1, ('5691986', 1)\n",
      "Unexpected error: list index out of range\n",
      "Curent page: 8, 1, ('5691986', 1)\n",
      "Unexpected error: list index out of range\n",
      "Curent page: 8, 1, ('5691986', 1)\n",
      "Unexpected error: list index out of range\n",
      "Curent page: 8, 1, ('5691986', 1)\n",
      "Unexpected error: list index out of range\n",
      "Curent page: 8, 1, ('5691986', 1)\n",
      "Unexpected error: list index out of range\n",
      "Curent page: 8, 1, ('5691986', 1)\n",
      "Unexpected error: list index out of range\n"
     ]
    },
    {
     "name": "stderr",
     "output_type": "stream",
     "text": [
      "\n",
      "100%|██████████| 10/10 [00:09<00:00,  1.03it/s]\n",
      "100%|██████████| 2/2 [00:21<00:00, 10.56s/it]"
     ]
    },
    {
     "name": "stdout",
     "output_type": "stream",
     "text": [
      "Curent page: 9, 1, ('5691986', 1)\n",
      "Unexpected error: list index out of range\n",
      "Curent page: 9, 1, ('5691986', 1)\n",
      "Unexpected error: list index out of range\n",
      "Curent page: 9, 1, ('5691986', 1)\n",
      "Unexpected error: list index out of range\n",
      "Curent page: 9, 1, ('5691986', 1)\n",
      "Unexpected error: list index out of range\n",
      "Curent page: 9, 1, ('5691986', 1)\n",
      "Unexpected error: list index out of range\n",
      "Curent page: 9, 1, ('5691986', 1)\n",
      "Unexpected error: list index out of range\n",
      "Curent page: 9, 1, ('5691986', 1)\n",
      "Unexpected error: list index out of range\n",
      "Curent page: 9, 1, ('5691986', 1)\n",
      "Unexpected error: list index out of range\n",
      "Curent page: 9, 1, ('5691986', 1)\n",
      "Unexpected error: list index out of range\n",
      "Curent page: 9, 1, ('5691986', 1)\n",
      "Unexpected error: list index out of range\n",
      "Curent page: 9, 1, ('5691986', 1)\n",
      "Unexpected error: list index out of range\n",
      "Curent page: 9, 1, ('5691986', 1)\n",
      "Unexpected error: list index out of range\n",
      "Curent page: 9, 1, ('5691986', 1)\n",
      "Unexpected error: list index out of range\n",
      "Curent page: 9, 1, ('5691986', 1)\n",
      "Unexpected error: list index out of range\n",
      "Curent page: 9, 1, ('5691986', 1)\n",
      "Unexpected error: list index out of range\n"
     ]
    },
    {
     "name": "stderr",
     "output_type": "stream",
     "text": [
      "\n"
     ]
    }
   ],
   "source": [
    "jobs = extract_jobs(0,10)"
   ]
  },
  {
   "cell_type": "code",
   "execution_count": 11,
   "id": "603de8ec-3a58-4916-9365-25b504ba6f31",
   "metadata": {
    "colab": {
     "base_uri": "https://localhost:8080/",
     "height": 419
    },
    "id": "603de8ec-3a58-4916-9365-25b504ba6f31",
    "outputId": "5df0c4e4-e16f-4ba7-8fb7-b2878f0afbc7"
   },
   "outputs": [
    {
     "data": {
      "text/html": [
       "<div>\n",
       "<style scoped>\n",
       "    .dataframe tbody tr th:only-of-type {\n",
       "        vertical-align: middle;\n",
       "    }\n",
       "\n",
       "    .dataframe tbody tr th {\n",
       "        vertical-align: top;\n",
       "    }\n",
       "\n",
       "    .dataframe thead th {\n",
       "        text-align: right;\n",
       "    }\n",
       "</style>\n",
       "<table border=\"1\" class=\"dataframe\">\n",
       "  <thead>\n",
       "    <tr style=\"text-align: right;\">\n",
       "      <th></th>\n",
       "      <th>position_id</th>\n",
       "      <th>category</th>\n",
       "    </tr>\n",
       "  </thead>\n",
       "  <tbody>\n",
       "    <tr>\n",
       "      <th>0</th>\n",
       "      <td>5726080</td>\n",
       "      <td>25</td>\n",
       "    </tr>\n",
       "    <tr>\n",
       "      <th>1</th>\n",
       "      <td>5720106</td>\n",
       "      <td>25</td>\n",
       "    </tr>\n",
       "    <tr>\n",
       "      <th>2</th>\n",
       "      <td>5710686</td>\n",
       "      <td>25</td>\n",
       "    </tr>\n",
       "    <tr>\n",
       "      <th>3</th>\n",
       "      <td>5726320</td>\n",
       "      <td>25</td>\n",
       "    </tr>\n",
       "    <tr>\n",
       "      <th>4</th>\n",
       "      <td>5718103</td>\n",
       "      <td>25</td>\n",
       "    </tr>\n",
       "    <tr>\n",
       "      <th>...</th>\n",
       "      <td>...</td>\n",
       "      <td>...</td>\n",
       "    </tr>\n",
       "    <tr>\n",
       "      <th>200</th>\n",
       "      <td>5694610</td>\n",
       "      <td>1</td>\n",
       "    </tr>\n",
       "    <tr>\n",
       "      <th>201</th>\n",
       "      <td>5693502</td>\n",
       "      <td>1</td>\n",
       "    </tr>\n",
       "    <tr>\n",
       "      <th>202</th>\n",
       "      <td>5693523</td>\n",
       "      <td>1</td>\n",
       "    </tr>\n",
       "    <tr>\n",
       "      <th>203</th>\n",
       "      <td>5692026</td>\n",
       "      <td>1</td>\n",
       "    </tr>\n",
       "    <tr>\n",
       "      <th>204</th>\n",
       "      <td>5691986</td>\n",
       "      <td>1</td>\n",
       "    </tr>\n",
       "  </tbody>\n",
       "</table>\n",
       "<p>205 rows × 2 columns</p>\n",
       "</div>"
      ],
      "text/plain": [
       "    position_id  category\n",
       "0       5726080        25\n",
       "1       5720106        25\n",
       "2       5710686        25\n",
       "3       5726320        25\n",
       "4       5718103        25\n",
       "..          ...       ...\n",
       "200     5694610         1\n",
       "201     5693502         1\n",
       "202     5693523         1\n",
       "203     5692026         1\n",
       "204     5691986         1\n",
       "\n",
       "[205 rows x 2 columns]"
      ]
     },
     "execution_count": 11,
     "metadata": {
      "tags": []
     },
     "output_type": "execute_result"
    }
   ],
   "source": [
    "jobs"
   ]
  },
  {
   "cell_type": "code",
   "execution_count": 12,
   "id": "8d7a385a-3274-42c1-bbe6-8bb875d9b3f5",
   "metadata": {
    "id": "8d7a385a-3274-42c1-bbe6-8bb875d9b3f5"
   },
   "outputs": [],
   "source": [
    "jobs.to_csv(\"/content/ShardDrives/MyDrive/jobsbg_scrapped/categories_20210610.csv\", index=False)"
   ]
  },
  {
   "cell_type": "code",
   "execution_count": null,
   "id": "eBB_C4_8sHi1",
   "metadata": {
    "id": "eBB_C4_8sHi1"
   },
   "outputs": [],
   "source": []
  }
 ],
 "metadata": {
  "colab": {
   "collapsed_sections": [],
   "name": "Category_craw.ipynb",
   "provenance": []
  },
  "kernelspec": {
   "display_name": "Python 3",
   "language": "python",
   "name": "python3"
  },
  "language_info": {
   "codemirror_mode": {
    "name": "ipython",
    "version": 3
   },
   "file_extension": ".py",
   "mimetype": "text/x-python",
   "name": "python",
   "nbconvert_exporter": "python",
   "pygments_lexer": "ipython3",
   "version": "3.8.8"
  }
 },
 "nbformat": 4,
 "nbformat_minor": 5
}
