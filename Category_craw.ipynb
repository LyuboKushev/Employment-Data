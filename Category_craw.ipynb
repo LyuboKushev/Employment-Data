{
 "cells": [
  {
   "cell_type": "markdown",
   "id": "1900cfe5-9399-4052-bf19-a75bf8af917a",
   "metadata": {},
   "source": [
    "# Settings all imports"
   ]
  },
  {
   "cell_type": "code",
   "execution_count": 4,
   "id": "7f2f3050-2aa1-4add-83e7-edea857ad741",
   "metadata": {},
   "outputs": [],
   "source": [
    "import tqdm\n",
    "import requests\n",
    "import urllib.request\n",
    "\n",
    "import numpy as np\n",
    "import pandas as pd\n",
    "\n",
    "from datetime import date, timedelta\n",
    "from selenium.webdriver.common.by import By\n",
    "from selenium import webdriver\n",
    "from selenium.webdriver.chrome.options import Options\n",
    "from bs4 import BeautifulSoup\n",
    "from bs4.element import Comment\n",
    "# from google.colab import drive"
   ]
  },
  {
   "cell_type": "markdown",
   "id": "2c2fbc70-4ab8-476d-b9ae-53d8a2b2e425",
   "metadata": {},
   "source": [
    "# Create a web driver based on operating system. Please change the value of the `OPERATING_SYSTEM` constant to run this notebook on your system"
   ]
  },
  {
   "cell_type": "code",
   "execution_count": 5,
   "id": "7fd2d0a8-e66c-405f-a78c-8ffce41a3ec7",
   "metadata": {},
   "outputs": [
    {
     "data": {
      "text/plain": [
       "'url = \\'https://www.jobs.bg/front_job_search.php?frompage=0&add_sh=1&from_hp=1&term=#paging\\'\\nr = driver.get(url)\\nhtml = driver.execute_script(\"return document.documentElement.outerHTML\")\\nsoup = BeautifulSoup(html, \\'html.parser\\')'"
      ]
     },
     "execution_count": 5,
     "metadata": {},
     "output_type": "execute_result"
    }
   ],
   "source": [
    "OPERATING_SYSTEM = \"mac\"\n",
    "\n",
    "if OPERATING_SYSTEM == \"windows\":\n",
    "    executable_path = \"drivers/windows/chromedriver.exe\"\n",
    "elif OPERATING_SYSTEM == \"mac\":\n",
    "    executable_path = \"drivers/mac/chromedriver\"\n",
    "elif OPERATING_SYSTEM == \"linux\":\n",
    "    executable_path = \"chromedriver\"\n",
    "\n",
    "base_url = 'https://www.jobs.bg/'\n",
    "\n",
    "chrome_options = webdriver.ChromeOptions()\n",
    "chrome_options.add_argument('--headless')\n",
    "chrome_options.add_argument('--no-sandbox')\n",
    "chrome_options.add_argument('--disable-dev-shm-usage')\n",
    "driver = webdriver.Chrome(executable_path=executable_path, options=chrome_options)\n",
    "\n",
    "\n",
    "\"\"\"url = 'https://www.jobs.bg/front_job_search.php?frompage=0&add_sh=1&from_hp=1&term=#paging'\n",
    "r = driver.get(url)\n",
    "html = driver.execute_script(\"return document.documentElement.outerHTML\")\n",
    "soup = BeautifulSoup(html, 'html.parser')\"\"\""
   ]
  },
  {
   "cell_type": "markdown",
   "id": "1bef0728-1d75-4cd3-b252-820a0627edc2",
   "metadata": {},
   "source": [
    "# Extracting the category names and ids so we can perform filters based on category"
   ]
  },
  {
   "cell_type": "code",
   "execution_count": 6,
   "id": "70cc087b-e8d3-4b26-9aec-03f12a119da3",
   "metadata": {},
   "outputs": [],
   "source": [
    "def extract_categories_dataframe():\n",
    "    \"\"\"\"\"\"\n",
    "    url = \"https://www.jobs.bg/index.php\"\n",
    "    r = driver.get(url)\n",
    "    categories_button = driver.find_element_by_id(\"categoriesChip\")\n",
    "    categories_button.click()\n",
    "    html = driver.execute_script(\"return document.documentElement.outerHTML\")\n",
    "    soup = BeautifulSoup(html, 'html.parser')\n",
    "\n",
    "    categories_elem = soup.find('div',attrs={'id':'categoriesSelectSheet'})\n",
    "    categories_elements = categories_elem.find_all(\"div\", attrs={\"class\": \"mdc-chip mdc-ripple-upgraded\"})\n",
    "\n",
    "    categories_info = []\n",
    "    categories_info.append((56))\n",
    "\n",
    "    for category_element in categories_elements:\n",
    "        category_id = category_element['id'].split(\"_\")[-1]\n",
    "        category_id = int(category_id)\n",
    "        categories_info.append(category_id)\n",
    "\n",
    "    #categories_info = pd.DataFrame(categories_info, columns=[\"category_id\"])\n",
    "\n",
    "    return categories_info"
   ]
  },
  {
   "cell_type": "code",
   "execution_count": 15,
   "id": "45ad74f6-b893-4d7d-8472-673c9b5bab0d",
   "metadata": {},
   "outputs": [
    {
     "data": {
      "text/plain": [
       "[56,\n",
       " 36,\n",
       " 45,\n",
       " 57,\n",
       " 6,\n",
       " 38,\n",
       " 52,\n",
       " 29,\n",
       " 3,\n",
       " 17,\n",
       " 41,\n",
       " 35,\n",
       " 4,\n",
       " 2,\n",
       " 11,\n",
       " 27,\n",
       " 18,\n",
       " 37,\n",
       " 43,\n",
       " 26,\n",
       " 20,\n",
       " 24,\n",
       " 22,\n",
       " 51,\n",
       " 9,\n",
       " 7,\n",
       " 39,\n",
       " 23,\n",
       " 28,\n",
       " 19,\n",
       " 13,\n",
       " 25,\n",
       " 1,\n",
       " 21]"
      ]
     },
     "execution_count": 15,
     "metadata": {},
     "output_type": "execute_result"
    }
   ],
   "source": [
    "categories_info = extract_categories_dataframe()\n",
    "#categories_info.sort_values(by='category_id',inplace=True)\n",
    "categories_info"
   ]
  },
  {
   "cell_type": "code",
   "execution_count": 56,
   "id": "1a2f2738-a7e2-4043-a17f-4cae910649b4",
   "metadata": {},
   "outputs": [],
   "source": [
    "def get_position_id(text_info_elem):\n",
    "    \"\"\"\n",
    "    \"\"\"\n",
    "    class_id_elem = 'card__title mdc-typography mdc-typography--headline6 text-overflow'\n",
    "    id_elem = text_info_elem.find('a',attrs={'class':class_id_elem})['href']\n",
    "    position_id = id_elem.lstrip('job/')\n",
    "    \n",
    "    return position_id\n",
    "\n",
    "def extract_job_info_as_array(base_url, text_info_elem, job_company_elem):\n",
    "    \"\"\"\n",
    "    \"\"\"\n",
    "    position_id = get_position_id(text_info_elem)\n",
    "\n",
    "    current_job_info = [position_id]\n",
    "    \n",
    "    return current_job_info"
   ]
  },
  {
   "cell_type": "code",
   "execution_count": 57,
   "id": "e3162494-d334-4729-82bd-0fd5293b1299",
   "metadata": {},
   "outputs": [],
   "source": [
    "def extract_jobs(start_page, end_page):\n",
    "    \"\"\"\"\"\"\n",
    "    jobs_list = []\n",
    "\n",
    "    for category in tqdm.tqdm(categories_info):\n",
    "        \n",
    "        for page in tqdm.tqdm(range(start_page, end_page)):\n",
    "    \n",
    "            try:\n",
    "                # This is the base url used when no filters by categories are applied\n",
    "                url = \"https://www.jobs.bg/front_job_search.php?frompage={}&add_sh=1&from_hp=1&term=#paging\".format(page*15)\n",
    "              \n",
    "                if category:\n",
    "                    url = \"https://www.jobs.bg/front_job_search.php?frompage={}&add_sh=1&categories%5B0%5D={}&term=#paging\".format(page*15, category)\n",
    "              \n",
    "                r = driver.get(url)\n",
    "                html = driver.execute_script(\"return document.documentElement.outerHTML\")\n",
    "                soup = BeautifulSoup(html, 'html.parser')\n",
    "                job_infos = soup.find_all(\"td\", attrs = {\"class\": \"offerslistRow\"})\n",
    "            except Exception as e:\n",
    "                print(f\"Page number: {page}, url: {url}\")\n",
    "                print(f\"Unexpected error: {e.message}\")\n",
    "    \n",
    "            for i in range(0, 45, 3):\n",
    "                try:\n",
    "                    text_info_elem = job_infos[i]\n",
    "                    job_logo_elem = job_infos[i+1]\n",
    "                    job_company_elem = job_infos[i+2]\n",
    "    \n",
    "                    current_job_info = extract_job_info_as_array(base_url, text_info_elem, job_company_elem)\n",
    "                    current_job_info = (current_job_info, category)\n",
    "                    jobs_list.append(current_job_info)\n",
    "                except Exception as e:\n",
    "                    print(f\"Curent page: {page}, problem with the {i}, {i+1}, {i+2} tds\")\n",
    "                    print(f\"Unexpected error: {e}\")\n",
    "    \n",
    "        df_columns = [\"position_id\", \"category\"]\n",
    "    \n",
    "        jobs_df = pd.DataFrame(jobs_list, columns=df_columns)\n",
    "    \n",
    "        return jobs_df"
   ]
  },
  {
   "cell_type": "code",
   "execution_count": 58,
   "id": "ccd3f77c-3023-4841-9552-848b9387445a",
   "metadata": {},
   "outputs": [
    {
     "name": "stderr",
     "output_type": "stream",
     "text": [
      "  0%|          | 0/34 [00:00<?, ?it/s]\n",
      "  0%|          | 0/1 [00:00<?, ?it/s]\u001b[A\n",
      "100%|██████████| 1/1 [00:00<00:00,  1.23it/s]\u001b[A\n",
      "  0%|          | 0/34 [00:00<?, ?it/s]\n"
     ]
    }
   ],
   "source": [
    "jobs = extract_jobs(0,1)"
   ]
  },
  {
   "cell_type": "code",
   "execution_count": 59,
   "id": "603de8ec-3a58-4916-9365-25b504ba6f31",
   "metadata": {},
   "outputs": [
    {
     "data": {
      "text/html": [
       "<div>\n",
       "<style scoped>\n",
       "    .dataframe tbody tr th:only-of-type {\n",
       "        vertical-align: middle;\n",
       "    }\n",
       "\n",
       "    .dataframe tbody tr th {\n",
       "        vertical-align: top;\n",
       "    }\n",
       "\n",
       "    .dataframe thead th {\n",
       "        text-align: right;\n",
       "    }\n",
       "</style>\n",
       "<table border=\"1\" class=\"dataframe\">\n",
       "  <thead>\n",
       "    <tr style=\"text-align: right;\">\n",
       "      <th></th>\n",
       "      <th>position_id</th>\n",
       "      <th>category</th>\n",
       "    </tr>\n",
       "  </thead>\n",
       "  <tbody>\n",
       "    <tr>\n",
       "      <th>0</th>\n",
       "      <td>[5707118]</td>\n",
       "      <td>56</td>\n",
       "    </tr>\n",
       "    <tr>\n",
       "      <th>1</th>\n",
       "      <td>[5695491]</td>\n",
       "      <td>56</td>\n",
       "    </tr>\n",
       "    <tr>\n",
       "      <th>2</th>\n",
       "      <td>[5673409]</td>\n",
       "      <td>56</td>\n",
       "    </tr>\n",
       "    <tr>\n",
       "      <th>3</th>\n",
       "      <td>[5669897]</td>\n",
       "      <td>56</td>\n",
       "    </tr>\n",
       "    <tr>\n",
       "      <th>4</th>\n",
       "      <td>[5667007]</td>\n",
       "      <td>56</td>\n",
       "    </tr>\n",
       "    <tr>\n",
       "      <th>5</th>\n",
       "      <td>[5667011]</td>\n",
       "      <td>56</td>\n",
       "    </tr>\n",
       "    <tr>\n",
       "      <th>6</th>\n",
       "      <td>[5666999]</td>\n",
       "      <td>56</td>\n",
       "    </tr>\n",
       "    <tr>\n",
       "      <th>7</th>\n",
       "      <td>[5667461]</td>\n",
       "      <td>56</td>\n",
       "    </tr>\n",
       "    <tr>\n",
       "      <th>8</th>\n",
       "      <td>[5695722]</td>\n",
       "      <td>56</td>\n",
       "    </tr>\n",
       "    <tr>\n",
       "      <th>9</th>\n",
       "      <td>[5665209]</td>\n",
       "      <td>56</td>\n",
       "    </tr>\n",
       "    <tr>\n",
       "      <th>10</th>\n",
       "      <td>[5709691]</td>\n",
       "      <td>56</td>\n",
       "    </tr>\n",
       "    <tr>\n",
       "      <th>11</th>\n",
       "      <td>[5709692]</td>\n",
       "      <td>56</td>\n",
       "    </tr>\n",
       "    <tr>\n",
       "      <th>12</th>\n",
       "      <td>[5680342]</td>\n",
       "      <td>56</td>\n",
       "    </tr>\n",
       "    <tr>\n",
       "      <th>13</th>\n",
       "      <td>[5709649]</td>\n",
       "      <td>56</td>\n",
       "    </tr>\n",
       "    <tr>\n",
       "      <th>14</th>\n",
       "      <td>[5709475]</td>\n",
       "      <td>56</td>\n",
       "    </tr>\n",
       "  </tbody>\n",
       "</table>\n",
       "</div>"
      ],
      "text/plain": [
       "   position_id  category\n",
       "0    [5707118]        56\n",
       "1    [5695491]        56\n",
       "2    [5673409]        56\n",
       "3    [5669897]        56\n",
       "4    [5667007]        56\n",
       "5    [5667011]        56\n",
       "6    [5666999]        56\n",
       "7    [5667461]        56\n",
       "8    [5695722]        56\n",
       "9    [5665209]        56\n",
       "10   [5709691]        56\n",
       "11   [5709692]        56\n",
       "12   [5680342]        56\n",
       "13   [5709649]        56\n",
       "14   [5709475]        56"
      ]
     },
     "execution_count": 59,
     "metadata": {},
     "output_type": "execute_result"
    }
   ],
   "source": [
    "jobs"
   ]
  },
  {
   "cell_type": "code",
   "execution_count": 14,
   "id": "db9ff724-830c-486f-a35f-522d2995a53d",
   "metadata": {},
   "outputs": [
    {
     "name": "stderr",
     "output_type": "stream",
     "text": [
      "100%|██████████| 34/34 [00:00<00:00, 20910.02it/s]"
     ]
    },
    {
     "name": "stdout",
     "output_type": "stream",
     "text": [
      "https://www.jobs.bg/front_job_search.php?add_sh=1&from_hp=1&categories%5B%5D=56\n",
      "https://www.jobs.bg/front_job_search.php?add_sh=1&from_hp=1&categories%5B%5D=36\n",
      "https://www.jobs.bg/front_job_search.php?add_sh=1&from_hp=1&categories%5B%5D=45\n",
      "https://www.jobs.bg/front_job_search.php?add_sh=1&from_hp=1&categories%5B%5D=57\n",
      "https://www.jobs.bg/front_job_search.php?add_sh=1&from_hp=1&categories%5B%5D=6\n",
      "https://www.jobs.bg/front_job_search.php?add_sh=1&from_hp=1&categories%5B%5D=38\n",
      "https://www.jobs.bg/front_job_search.php?add_sh=1&from_hp=1&categories%5B%5D=52\n",
      "https://www.jobs.bg/front_job_search.php?add_sh=1&from_hp=1&categories%5B%5D=29\n",
      "https://www.jobs.bg/front_job_search.php?add_sh=1&from_hp=1&categories%5B%5D=3\n",
      "https://www.jobs.bg/front_job_search.php?add_sh=1&from_hp=1&categories%5B%5D=17\n",
      "https://www.jobs.bg/front_job_search.php?add_sh=1&from_hp=1&categories%5B%5D=41\n",
      "https://www.jobs.bg/front_job_search.php?add_sh=1&from_hp=1&categories%5B%5D=35\n",
      "https://www.jobs.bg/front_job_search.php?add_sh=1&from_hp=1&categories%5B%5D=4\n",
      "https://www.jobs.bg/front_job_search.php?add_sh=1&from_hp=1&categories%5B%5D=2\n",
      "https://www.jobs.bg/front_job_search.php?add_sh=1&from_hp=1&categories%5B%5D=11\n",
      "https://www.jobs.bg/front_job_search.php?add_sh=1&from_hp=1&categories%5B%5D=27\n",
      "https://www.jobs.bg/front_job_search.php?add_sh=1&from_hp=1&categories%5B%5D=18\n",
      "https://www.jobs.bg/front_job_search.php?add_sh=1&from_hp=1&categories%5B%5D=37\n",
      "https://www.jobs.bg/front_job_search.php?add_sh=1&from_hp=1&categories%5B%5D=43\n",
      "https://www.jobs.bg/front_job_search.php?add_sh=1&from_hp=1&categories%5B%5D=26\n",
      "https://www.jobs.bg/front_job_search.php?add_sh=1&from_hp=1&categories%5B%5D=20\n",
      "https://www.jobs.bg/front_job_search.php?add_sh=1&from_hp=1&categories%5B%5D=24\n",
      "https://www.jobs.bg/front_job_search.php?add_sh=1&from_hp=1&categories%5B%5D=22\n",
      "https://www.jobs.bg/front_job_search.php?add_sh=1&from_hp=1&categories%5B%5D=51\n",
      "https://www.jobs.bg/front_job_search.php?add_sh=1&from_hp=1&categories%5B%5D=9\n",
      "https://www.jobs.bg/front_job_search.php?add_sh=1&from_hp=1&categories%5B%5D=7\n",
      "https://www.jobs.bg/front_job_search.php?add_sh=1&from_hp=1&categories%5B%5D=39\n",
      "https://www.jobs.bg/front_job_search.php?add_sh=1&from_hp=1&categories%5B%5D=23\n",
      "https://www.jobs.bg/front_job_search.php?add_sh=1&from_hp=1&categories%5B%5D=28\n",
      "https://www.jobs.bg/front_job_search.php?add_sh=1&from_hp=1&categories%5B%5D=19\n",
      "https://www.jobs.bg/front_job_search.php?add_sh=1&from_hp=1&categories%5B%5D=13\n",
      "https://www.jobs.bg/front_job_search.php?add_sh=1&from_hp=1&categories%5B%5D=25\n",
      "https://www.jobs.bg/front_job_search.php?add_sh=1&from_hp=1&categories%5B%5D=1\n",
      "https://www.jobs.bg/front_job_search.php?add_sh=1&from_hp=1&categories%5B%5D=21\n"
     ]
    },
    {
     "name": "stderr",
     "output_type": "stream",
     "text": [
      "\n"
     ]
    }
   ],
   "source": [
    "for category in tqdm.tqdm(categories_info):\n",
    "    try:\n",
    "        url = 'https://www.jobs.bg/front_job_search.php?add_sh=1&from_hp=1&categories%5B%5D={}'.format(category)\n",
    "        print(url)\n",
    "    except:\n",
    "        print('z')"
   ]
  },
  {
   "cell_type": "code",
   "execution_count": null,
   "id": "b3ce0ca5-e109-40d0-8252-a785fa9254b9",
   "metadata": {},
   "outputs": [],
   "source": []
  }
 ],
 "metadata": {
  "kernelspec": {
   "display_name": "Python 3",
   "language": "python",
   "name": "python3"
  },
  "language_info": {
   "codemirror_mode": {
    "name": "ipython",
    "version": 3
   },
   "file_extension": ".py",
   "mimetype": "text/x-python",
   "name": "python",
   "nbconvert_exporter": "python",
   "pygments_lexer": "ipython3",
   "version": "3.8.8"
  }
 },
 "nbformat": 4,
 "nbformat_minor": 5
}
