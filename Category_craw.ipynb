{
 "cells": [
  {
   "cell_type": "markdown",
   "id": "1900cfe5-9399-4052-bf19-a75bf8af917a",
   "metadata": {},
   "source": [
    "# Settings all imports"
   ]
  },
  {
   "cell_type": "code",
   "execution_count": 1,
   "id": "7f2f3050-2aa1-4add-83e7-edea857ad741",
   "metadata": {},
   "outputs": [],
   "source": [
    "import tqdm\n",
    "import requests\n",
    "import urllib.request\n",
    "\n",
    "import numpy as np\n",
    "import pandas as pd\n",
    "\n",
    "from datetime import date, timedelta\n",
    "from selenium.webdriver.common.by import By\n",
    "from selenium import webdriver\n",
    "from selenium.webdriver.chrome.options import Options\n",
    "from bs4 import BeautifulSoup\n",
    "from bs4.element import Comment\n",
    "# from google.colab import drive"
   ]
  },
  {
   "cell_type": "markdown",
   "id": "2c2fbc70-4ab8-476d-b9ae-53d8a2b2e425",
   "metadata": {},
   "source": [
    "# Create a web driver based on operating system. Please change the value of the `OPERATING_SYSTEM` constant to run this notebook on your system"
   ]
  },
  {
   "cell_type": "code",
   "execution_count": 2,
   "id": "7fd2d0a8-e66c-405f-a78c-8ffce41a3ec7",
   "metadata": {},
   "outputs": [
    {
     "data": {
      "text/plain": [
       "'url = \\'https://www.jobs.bg/front_job_search.php?frompage=0&add_sh=1&from_hp=1&term=#paging\\'\\nr = driver.get(url)\\nhtml = driver.execute_script(\"return document.documentElement.outerHTML\")\\nsoup = BeautifulSoup(html, \\'html.parser\\')'"
      ]
     },
     "execution_count": 2,
     "metadata": {},
     "output_type": "execute_result"
    }
   ],
   "source": [
    "OPERATING_SYSTEM = \"mac\"\n",
    "\n",
    "if OPERATING_SYSTEM == \"windows\":\n",
    "    executable_path = \"drivers/windows/chromedriver.exe\"\n",
    "elif OPERATING_SYSTEM == \"mac\":\n",
    "    executable_path = \"drivers/mac/chromedriver\"\n",
    "elif OPERATING_SYSTEM == \"linux\":\n",
    "    executable_path = \"chromedriver\"\n",
    "\n",
    "base_url = 'https://www.jobs.bg/'\n",
    "\n",
    "chrome_options = webdriver.ChromeOptions()\n",
    "chrome_options.add_argument('--headless')\n",
    "chrome_options.add_argument('--no-sandbox')\n",
    "chrome_options.add_argument('--disable-dev-shm-usage')\n",
    "driver = webdriver.Chrome(executable_path=executable_path, options=chrome_options)\n",
    "\n",
    "\n",
    "\"\"\"url = 'https://www.jobs.bg/front_job_search.php?frompage=0&add_sh=1&from_hp=1&term=#paging'\n",
    "r = driver.get(url)\n",
    "html = driver.execute_script(\"return document.documentElement.outerHTML\")\n",
    "soup = BeautifulSoup(html, 'html.parser')\"\"\""
   ]
  },
  {
   "cell_type": "markdown",
   "id": "1bef0728-1d75-4cd3-b252-820a0627edc2",
   "metadata": {},
   "source": [
    "# Extracting the category names and ids so we can perform filters based on category"
   ]
  },
  {
   "cell_type": "code",
   "execution_count": 3,
   "id": "70cc087b-e8d3-4b26-9aec-03f12a119da3",
   "metadata": {},
   "outputs": [],
   "source": [
    "def extract_categories_dataframe():\n",
    "    \"\"\"\"\"\"\n",
    "    url = \"https://www.jobs.bg/index.php\"\n",
    "    r = driver.get(url)\n",
    "    categories_button = driver.find_element_by_id(\"categoriesChip\")\n",
    "    categories_button.click()\n",
    "    html = driver.execute_script(\"return document.documentElement.outerHTML\")\n",
    "    soup = BeautifulSoup(html, 'html.parser')\n",
    "\n",
    "    categories_elem = soup.find('div',attrs={'id':'categoriesSelectSheet'})\n",
    "    categories_elements = categories_elem.find_all(\"div\", attrs={\"class\": \"mdc-chip mdc-ripple-upgraded\"})\n",
    "\n",
    "    categories_info = []\n",
    "    categories_info.append((56))\n",
    "\n",
    "    for category_element in categories_elements:\n",
    "        category_id = category_element['id'].split(\"_\")[-1]\n",
    "        category_id = int(category_id)\n",
    "        categories_info.append(category_id)\n",
    "\n",
    "    #categories_info = pd.DataFrame(categories_info, columns=[\"category_id\"])\n",
    "\n",
    "    return categories_info"
   ]
  },
  {
   "cell_type": "code",
   "execution_count": 7,
   "id": "f3815f99-954c-45fc-aa81-b47c1858df67",
   "metadata": {},
   "outputs": [],
   "source": [
    "categories_info=extract_categories_dataframe()"
   ]
  },
  {
   "cell_type": "code",
   "execution_count": 8,
   "id": "1a2f2738-a7e2-4043-a17f-4cae910649b4",
   "metadata": {},
   "outputs": [],
   "source": [
    "def get_position_id(text_info_elem):\n",
    "    \"\"\"\n",
    "    \"\"\"\n",
    "    class_id_elem = 'card__title mdc-typography mdc-typography--headline6 text-overflow'\n",
    "    id_elem = text_info_elem.find('a',attrs={'class':class_id_elem})['href']\n",
    "    position_id = id_elem.lstrip('job/')\n",
    "    \n",
    "    return position_id\n",
    "\n",
    "def extract_job_position_id_as_array(base_url, text_info_elem, job_company_elem):\n",
    "    \"\"\"\n",
    "    \"\"\"\n",
    "    position_id = get_position_id(text_info_elem)\n",
    "\n",
    "    current_job_info = [position_id]\n",
    "    \n",
    "    return current_job_info"
   ]
  },
  {
   "cell_type": "code",
   "execution_count": 9,
   "id": "e3162494-d334-4729-82bd-0fd5293b1299",
   "metadata": {},
   "outputs": [],
   "source": [
    "def extract_jobs(start_page, end_page):\n",
    "    \"\"\"\"\"\"\n",
    "    jobs_list = []\n",
    "\n",
    "    for category in tqdm.tqdm(categories_info):\n",
    "        \n",
    "        for page in tqdm.tqdm(range(start_page, end_page)):\n",
    "    \n",
    "            try:\n",
    "                # This is the base url looping through all categories and specified pages\n",
    "                url = \"https://www.jobs.bg/front_job_search.php?frompage={}&add_sh=1&categories%5B0%5D={}&term=#paging\".format(page*15, category)\n",
    "              \n",
    "                r = driver.get(url)\n",
    "                html = driver.execute_script(\"return document.documentElement.outerHTML\")\n",
    "                soup = BeautifulSoup(html, 'html.parser')\n",
    "                job_infos = soup.find_all(\"td\", attrs = {\"class\": \"offerslistRow\"})\n",
    "            except Exception as e:\n",
    "                print(f\"Page number: {page}, url: {url}\")\n",
    "                print(f\"Unexpected error: {e.message}\")\n",
    "    \n",
    "            for i in range(0, 45, 3):\n",
    "                try:\n",
    "                    text_info_elem = job_infos[i]\n",
    "                    job_logo_elem = job_infos[i+1]\n",
    "                    job_company_elem = job_infos[i+2]\n",
    "    \n",
    "                    current_job_info = extract_job_position_id_as_array(base_url, text_info_elem, job_company_elem)\n",
    "                    current_job_info = (current_job_info, category)\n",
    "                    jobs_list.append(current_job_info)\n",
    "                except Exception as e:\n",
    "                    print(f\"Curent page: {page}, problem with the {i}, {i+1}, {i+2} tds\")\n",
    "                    print(f\"Unexpected error: {e}\")\n",
    "    \n",
    "        df_columns = [\"position_id\", \"category\"]\n",
    "    \n",
    "        jobs_df = pd.DataFrame(jobs_list, columns=df_columns)\n",
    "    \n",
    "        return jobs_df"
   ]
  },
  {
   "cell_type": "code",
   "execution_count": 10,
   "id": "ccd3f77c-3023-4841-9552-848b9387445a",
   "metadata": {},
   "outputs": [
    {
     "name": "stderr",
     "output_type": "stream",
     "text": [
      "  0%|          | 0/34 [00:00<?, ?it/s]\n",
      "  0%|          | 0/20 [00:00<?, ?it/s]\u001b[A\n",
      "  5%|▌         | 1/20 [00:00<00:18,  1.05it/s]\u001b[A\n",
      " 10%|█         | 2/20 [00:01<00:16,  1.12it/s]\u001b[A\n",
      " 15%|█▌        | 3/20 [00:02<00:14,  1.20it/s]\u001b[A\n",
      " 20%|██        | 4/20 [00:03<00:12,  1.25it/s]\u001b[A\n",
      " 25%|██▌       | 5/20 [00:04<00:11,  1.27it/s]\u001b[A\n",
      " 30%|███       | 6/20 [00:04<00:11,  1.22it/s]\u001b[A\n",
      " 35%|███▌      | 7/20 [00:05<00:11,  1.14it/s]\u001b[A\n",
      " 40%|████      | 8/20 [00:06<00:10,  1.20it/s]\u001b[A\n",
      " 45%|████▌     | 9/20 [00:07<00:09,  1.21it/s]\u001b[A\n",
      " 50%|█████     | 10/20 [00:08<00:08,  1.25it/s]\u001b[A\n",
      " 55%|█████▌    | 11/20 [00:09<00:07,  1.24it/s]\u001b[A\n",
      " 60%|██████    | 12/20 [00:09<00:06,  1.25it/s]\u001b[A\n",
      " 65%|██████▌   | 13/20 [00:10<00:05,  1.28it/s]\u001b[A\n",
      " 70%|███████   | 14/20 [00:11<00:04,  1.27it/s]\u001b[A\n",
      " 75%|███████▌  | 15/20 [00:12<00:03,  1.27it/s]\u001b[A\n",
      " 80%|████████  | 16/20 [00:13<00:03,  1.25it/s]\u001b[A\n",
      " 85%|████████▌ | 17/20 [00:13<00:02,  1.27it/s]\u001b[A\n",
      " 90%|█████████ | 18/20 [00:14<00:01,  1.28it/s]\u001b[A\n",
      " 95%|█████████▌| 19/20 [00:15<00:00,  1.29it/s]\u001b[A\n",
      "100%|██████████| 20/20 [00:16<00:00,  1.24it/s]\u001b[A\n",
      "  0%|          | 0/34 [00:16<?, ?it/s]\n"
     ]
    }
   ],
   "source": [
    "jobs = extract_jobs(0,20)"
   ]
  },
  {
   "cell_type": "code",
   "execution_count": 11,
   "id": "603de8ec-3a58-4916-9365-25b504ba6f31",
   "metadata": {},
   "outputs": [
    {
     "data": {
      "text/html": [
       "<div>\n",
       "<style scoped>\n",
       "    .dataframe tbody tr th:only-of-type {\n",
       "        vertical-align: middle;\n",
       "    }\n",
       "\n",
       "    .dataframe tbody tr th {\n",
       "        vertical-align: top;\n",
       "    }\n",
       "\n",
       "    .dataframe thead th {\n",
       "        text-align: right;\n",
       "    }\n",
       "</style>\n",
       "<table border=\"1\" class=\"dataframe\">\n",
       "  <thead>\n",
       "    <tr style=\"text-align: right;\">\n",
       "      <th></th>\n",
       "      <th>position_id</th>\n",
       "      <th>category</th>\n",
       "    </tr>\n",
       "  </thead>\n",
       "  <tbody>\n",
       "    <tr>\n",
       "      <th>0</th>\n",
       "      <td>[5713292]</td>\n",
       "      <td>56</td>\n",
       "    </tr>\n",
       "    <tr>\n",
       "      <th>1</th>\n",
       "      <td>[5695717]</td>\n",
       "      <td>56</td>\n",
       "    </tr>\n",
       "    <tr>\n",
       "      <th>2</th>\n",
       "      <td>[5716422]</td>\n",
       "      <td>56</td>\n",
       "    </tr>\n",
       "    <tr>\n",
       "      <th>3</th>\n",
       "      <td>[5716418]</td>\n",
       "      <td>56</td>\n",
       "    </tr>\n",
       "    <tr>\n",
       "      <th>4</th>\n",
       "      <td>[5702659]</td>\n",
       "      <td>56</td>\n",
       "    </tr>\n",
       "    <tr>\n",
       "      <th>...</th>\n",
       "      <td>...</td>\n",
       "      <td>...</td>\n",
       "    </tr>\n",
       "    <tr>\n",
       "      <th>295</th>\n",
       "      <td>[5706397]</td>\n",
       "      <td>56</td>\n",
       "    </tr>\n",
       "    <tr>\n",
       "      <th>296</th>\n",
       "      <td>[5706293]</td>\n",
       "      <td>56</td>\n",
       "    </tr>\n",
       "    <tr>\n",
       "      <th>297</th>\n",
       "      <td>[5706173]</td>\n",
       "      <td>56</td>\n",
       "    </tr>\n",
       "    <tr>\n",
       "      <th>298</th>\n",
       "      <td>[5706190]</td>\n",
       "      <td>56</td>\n",
       "    </tr>\n",
       "    <tr>\n",
       "      <th>299</th>\n",
       "      <td>[5706275]</td>\n",
       "      <td>56</td>\n",
       "    </tr>\n",
       "  </tbody>\n",
       "</table>\n",
       "<p>300 rows × 2 columns</p>\n",
       "</div>"
      ],
      "text/plain": [
       "    position_id  category\n",
       "0     [5713292]        56\n",
       "1     [5695717]        56\n",
       "2     [5716422]        56\n",
       "3     [5716418]        56\n",
       "4     [5702659]        56\n",
       "..          ...       ...\n",
       "295   [5706397]        56\n",
       "296   [5706293]        56\n",
       "297   [5706173]        56\n",
       "298   [5706190]        56\n",
       "299   [5706275]        56\n",
       "\n",
       "[300 rows x 2 columns]"
      ]
     },
     "execution_count": 11,
     "metadata": {},
     "output_type": "execute_result"
    }
   ],
   "source": [
    "jobs"
   ]
  },
  {
   "cell_type": "code",
   "execution_count": null,
   "id": "0058ec19-ad74-4077-8bb3-8a5664ed031f",
   "metadata": {},
   "outputs": [],
   "source": []
  }
 ],
 "metadata": {
  "kernelspec": {
   "display_name": "Python 3",
   "language": "python",
   "name": "python3"
  },
  "language_info": {
   "codemirror_mode": {
    "name": "ipython",
    "version": 3
   },
   "file_extension": ".py",
   "mimetype": "text/x-python",
   "name": "python",
   "nbconvert_exporter": "python",
   "pygments_lexer": "ipython3",
   "version": "3.8.8"
  }
 },
 "nbformat": 4,
 "nbformat_minor": 5
}
