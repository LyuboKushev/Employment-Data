{
  "nbformat": 4,
  "nbformat_minor": 5,
  "metadata": {
    "colab": {
      "name": "Category_craw.ipynb",
      "provenance": [],
      "collapsed_sections": []
    },
    "kernelspec": {
      "display_name": "Python 3",
      "language": "python",
      "name": "python3"
    },
    "language_info": {
      "codemirror_mode": {
        "name": "ipython",
        "version": 3
      },
      "file_extension": ".py",
      "mimetype": "text/x-python",
      "name": "python",
      "nbconvert_exporter": "python",
      "pygments_lexer": "ipython3",
      "version": "3.8.8"
    }
  },
  "cells": [
    {
      "cell_type": "markdown",
      "metadata": {
        "id": "1900cfe5-9399-4052-bf19-a75bf8af917a"
      },
      "source": [
        "# Settings all imports"
      ],
      "id": "1900cfe5-9399-4052-bf19-a75bf8af917a"
    },
    {
      "cell_type": "code",
      "metadata": {
        "id": "9CWppAAdbBg-",
        "colab": {
          "base_uri": "https://localhost:8080/"
        },
        "outputId": "9aaea41d-7c5b-4086-ac7c-bfa616fa2ce1"
      },
      "source": [
        "# apt-get handle the installation and removal of software on Debian, Ubuntu, and related Linux distributions\n",
        "!apt-get update\n",
        "\n",
        "# installing needed packages\n",
        "!apt install chromium-chromedriver\n",
        "!pip install selenium\n",
        "!pip install beautifulsoup4\n",
        "\n",
        "# Copy the chromedriver\n",
        "!cp /usr/lib/chromium-browser/chromedriver /usr/bin\n",
        "\n",
        "import sys\n",
        "# This make sure that the selenium chromedriver is in the path\n",
        "sys.path.insert(0,'/usr/lib/chromium-browser/chromedriver')"
      ],
      "id": "9CWppAAdbBg-",
      "execution_count": 2,
      "outputs": [
        {
          "output_type": "stream",
          "text": [
            "Get:1 https://cloud.r-project.org/bin/linux/ubuntu bionic-cran40/ InRelease [3,626 B]\n",
            "Ign:2 https://developer.download.nvidia.com/compute/cuda/repos/ubuntu1804/x86_64  InRelease\n",
            "Get:3 https://cloud.r-project.org/bin/linux/ubuntu bionic-cran40/ Packages [62.9 kB]\n",
            "Ign:4 https://developer.download.nvidia.com/compute/machine-learning/repos/ubuntu1804/x86_64  InRelease\n",
            "Get:5 https://developer.download.nvidia.com/compute/cuda/repos/ubuntu1804/x86_64  Release [697 B]\n",
            "Hit:6 https://developer.download.nvidia.com/compute/machine-learning/repos/ubuntu1804/x86_64  Release\n",
            "Get:7 http://ppa.launchpad.net/c2d4u.team/c2d4u4.0+/ubuntu bionic InRelease [15.9 kB]\n",
            "Get:8 https://developer.download.nvidia.com/compute/cuda/repos/ubuntu1804/x86_64  Release.gpg [836 B]\n",
            "Get:9 http://security.ubuntu.com/ubuntu bionic-security InRelease [88.7 kB]\n",
            "Hit:11 http://archive.ubuntu.com/ubuntu bionic InRelease\n",
            "Get:12 http://archive.ubuntu.com/ubuntu bionic-updates InRelease [88.7 kB]\n",
            "Ign:13 https://developer.download.nvidia.com/compute/cuda/repos/ubuntu1804/x86_64  Packages\n",
            "Get:13 https://developer.download.nvidia.com/compute/cuda/repos/ubuntu1804/x86_64  Packages [680 kB]\n",
            "Hit:14 http://ppa.launchpad.net/cran/libgit2/ubuntu bionic InRelease\n",
            "Hit:15 http://ppa.launchpad.net/deadsnakes/ppa/ubuntu bionic InRelease\n",
            "Get:16 http://security.ubuntu.com/ubuntu bionic-security/main amd64 Packages [2,258 kB]\n",
            "Get:17 http://archive.ubuntu.com/ubuntu bionic-backports InRelease [74.6 kB]\n",
            "Get:18 http://ppa.launchpad.net/graphics-drivers/ppa/ubuntu bionic InRelease [21.3 kB]\n",
            "Get:19 http://archive.ubuntu.com/ubuntu bionic-updates/multiverse amd64 Packages [39.5 kB]\n",
            "Get:20 http://archive.ubuntu.com/ubuntu bionic-updates/restricted amd64 Packages [537 kB]\n",
            "Get:21 http://ppa.launchpad.net/c2d4u.team/c2d4u4.0+/ubuntu bionic/main Sources [1,786 kB]\n",
            "Get:22 http://security.ubuntu.com/ubuntu bionic-security/multiverse amd64 Packages [26.7 kB]\n",
            "Get:23 http://security.ubuntu.com/ubuntu bionic-security/universe amd64 Packages [1,420 kB]\n",
            "Get:24 http://security.ubuntu.com/ubuntu bionic-security/restricted amd64 Packages [505 kB]\n",
            "Get:25 http://archive.ubuntu.com/ubuntu bionic-updates/universe amd64 Packages [2,194 kB]\n",
            "Get:26 http://archive.ubuntu.com/ubuntu bionic-updates/main amd64 Packages [2,694 kB]\n",
            "Get:27 http://ppa.launchpad.net/c2d4u.team/c2d4u4.0+/ubuntu bionic/main amd64 Packages [914 kB]\n",
            "Get:28 http://ppa.launchpad.net/graphics-drivers/ppa/ubuntu bionic/main amd64 Packages [44.1 kB]\n",
            "Fetched 13.5 MB in 7s (1,892 kB/s)\n",
            "Reading package lists... Done\n",
            "Reading package lists... Done\n",
            "Building dependency tree       \n",
            "Reading state information... Done\n",
            "The following additional packages will be installed:\n",
            "  chromium-browser chromium-browser-l10n chromium-codecs-ffmpeg-extra\n",
            "Suggested packages:\n",
            "  webaccounts-chromium-extension unity-chromium-extension\n",
            "The following NEW packages will be installed:\n",
            "  chromium-browser chromium-browser-l10n chromium-chromedriver\n",
            "  chromium-codecs-ffmpeg-extra\n",
            "0 upgraded, 4 newly installed, 0 to remove and 93 not upgraded.\n",
            "Need to get 86.0 MB of archives.\n",
            "After this operation, 298 MB of additional disk space will be used.\n",
            "Get:1 http://archive.ubuntu.com/ubuntu bionic-updates/universe amd64 chromium-codecs-ffmpeg-extra amd64 91.0.4472.101-0ubuntu0.18.04.1 [1,124 kB]\n",
            "Get:2 http://archive.ubuntu.com/ubuntu bionic-updates/universe amd64 chromium-browser amd64 91.0.4472.101-0ubuntu0.18.04.1 [76.1 MB]\n",
            "Get:3 http://archive.ubuntu.com/ubuntu bionic-updates/universe amd64 chromium-browser-l10n all 91.0.4472.101-0ubuntu0.18.04.1 [3,937 kB]\n",
            "Get:4 http://archive.ubuntu.com/ubuntu bionic-updates/universe amd64 chromium-chromedriver amd64 91.0.4472.101-0ubuntu0.18.04.1 [4,837 kB]\n",
            "Fetched 86.0 MB in 9s (9,107 kB/s)\n",
            "Selecting previously unselected package chromium-codecs-ffmpeg-extra.\n",
            "(Reading database ... 160837 files and directories currently installed.)\n",
            "Preparing to unpack .../chromium-codecs-ffmpeg-extra_91.0.4472.101-0ubuntu0.18.04.1_amd64.deb ...\n",
            "Unpacking chromium-codecs-ffmpeg-extra (91.0.4472.101-0ubuntu0.18.04.1) ...\n",
            "Selecting previously unselected package chromium-browser.\n",
            "Preparing to unpack .../chromium-browser_91.0.4472.101-0ubuntu0.18.04.1_amd64.deb ...\n",
            "Unpacking chromium-browser (91.0.4472.101-0ubuntu0.18.04.1) ...\n",
            "Selecting previously unselected package chromium-browser-l10n.\n",
            "Preparing to unpack .../chromium-browser-l10n_91.0.4472.101-0ubuntu0.18.04.1_all.deb ...\n",
            "Unpacking chromium-browser-l10n (91.0.4472.101-0ubuntu0.18.04.1) ...\n",
            "Selecting previously unselected package chromium-chromedriver.\n",
            "Preparing to unpack .../chromium-chromedriver_91.0.4472.101-0ubuntu0.18.04.1_amd64.deb ...\n",
            "Unpacking chromium-chromedriver (91.0.4472.101-0ubuntu0.18.04.1) ...\n",
            "Setting up chromium-codecs-ffmpeg-extra (91.0.4472.101-0ubuntu0.18.04.1) ...\n",
            "Setting up chromium-browser (91.0.4472.101-0ubuntu0.18.04.1) ...\n",
            "update-alternatives: using /usr/bin/chromium-browser to provide /usr/bin/x-www-browser (x-www-browser) in auto mode\n",
            "update-alternatives: using /usr/bin/chromium-browser to provide /usr/bin/gnome-www-browser (gnome-www-browser) in auto mode\n",
            "Setting up chromium-chromedriver (91.0.4472.101-0ubuntu0.18.04.1) ...\n",
            "Setting up chromium-browser-l10n (91.0.4472.101-0ubuntu0.18.04.1) ...\n",
            "Processing triggers for man-db (2.8.3-2ubuntu0.1) ...\n",
            "Processing triggers for hicolor-icon-theme (0.17-2) ...\n",
            "Processing triggers for mime-support (3.60ubuntu1) ...\n",
            "Processing triggers for libc-bin (2.27-3ubuntu1.2) ...\n",
            "/sbin/ldconfig.real: /usr/local/lib/python3.7/dist-packages/ideep4py/lib/libmkldnn.so.0 is not a symbolic link\n",
            "\n",
            "Collecting selenium\n",
            "  Downloading selenium-3.141.0-py2.py3-none-any.whl (904 kB)\n",
            "\u001b[K     |████████████████████████████████| 904 kB 4.1 MB/s \n",
            "\u001b[?25hRequirement already satisfied: urllib3 in /usr/local/lib/python3.7/dist-packages (from selenium) (1.24.3)\n",
            "Installing collected packages: selenium\n",
            "Successfully installed selenium-3.141.0\n",
            "Requirement already satisfied: beautifulsoup4 in /usr/local/lib/python3.7/dist-packages (4.6.3)\n",
            "cp: '/usr/lib/chromium-browser/chromedriver' and '/usr/bin/chromedriver' are the same file\n"
          ],
          "name": "stdout"
        }
      ]
    },
    {
      "cell_type": "code",
      "metadata": {
        "colab": {
          "base_uri": "https://localhost:8080/"
        },
        "id": "7f2f3050-2aa1-4add-83e7-edea857ad741",
        "outputId": "81ab377e-1ae8-4200-cb12-7abdaf22c911"
      },
      "source": [
        "from google.colab import drive\n",
        "#drive.mount(\"/content/drive\")\n",
        "drive.mount(\"/content/ShardDrives\")\n",
        "\n",
        "import tqdm\n",
        "import requests\n",
        "import urllib.request\n",
        "\n",
        "import numpy as np\n",
        "import pandas as pd\n",
        "\n",
        "from datetime import date, timedelta\n",
        "from selenium.webdriver.common.by import By\n",
        "from selenium import webdriver\n",
        "from selenium.webdriver.chrome.options import Options\n",
        "from bs4 import BeautifulSoup\n",
        "from bs4.element import Comment\n",
        "# from google.colab import drive"
      ],
      "id": "7f2f3050-2aa1-4add-83e7-edea857ad741",
      "execution_count": 3,
      "outputs": [
        {
          "output_type": "stream",
          "text": [
            "Mounted at /content/ShardDrives\n"
          ],
          "name": "stdout"
        }
      ]
    },
    {
      "cell_type": "markdown",
      "metadata": {
        "id": "2c2fbc70-4ab8-476d-b9ae-53d8a2b2e425"
      },
      "source": [
        "# Create a web driver based on operating system. Please change the value of the `OPERATING_SYSTEM` constant to run this notebook on your system"
      ],
      "id": "2c2fbc70-4ab8-476d-b9ae-53d8a2b2e425"
    },
    {
      "cell_type": "code",
      "metadata": {
        "colab": {
          "base_uri": "https://localhost:8080/",
          "height": 54
        },
        "id": "7fd2d0a8-e66c-405f-a78c-8ffce41a3ec7",
        "outputId": "fcc3f1ef-6357-4e9d-f103-53590a9ba4d3"
      },
      "source": [
        "OPERATING_SYSTEM = \"linux\"\n",
        "\n",
        "if OPERATING_SYSTEM == \"windows\":\n",
        "    executable_path = \"drivers/windows/chromedriver.exe\"\n",
        "elif OPERATING_SYSTEM == \"mac\":\n",
        "    executable_path = \"drivers/mac/chromedriver\"\n",
        "elif OPERATING_SYSTEM == \"linux\":\n",
        "    executable_path = \"chromedriver\"\n",
        "\n",
        "base_url = 'https://www.jobs.bg/'\n",
        "\n",
        "chrome_options = webdriver.ChromeOptions()\n",
        "chrome_options.add_argument('--headless')\n",
        "chrome_options.add_argument('--no-sandbox')\n",
        "chrome_options.add_argument('--disable-dev-shm-usage')\n",
        "driver = webdriver.Chrome(executable_path=executable_path, options=chrome_options)\n",
        "\n",
        "\n",
        "\"\"\"url = 'https://www.jobs.bg/front_job_search.php?frompage=0&add_sh=1&from_hp=1&term=#paging'\n",
        "r = driver.get(url)\n",
        "html = driver.execute_script(\"return document.documentElement.outerHTML\")\n",
        "soup = BeautifulSoup(html, 'html.parser')\"\"\""
      ],
      "id": "7fd2d0a8-e66c-405f-a78c-8ffce41a3ec7",
      "execution_count": 4,
      "outputs": [
        {
          "output_type": "execute_result",
          "data": {
            "application/vnd.google.colaboratory.intrinsic+json": {
              "type": "string"
            },
            "text/plain": [
              "'url = \\'https://www.jobs.bg/front_job_search.php?frompage=0&add_sh=1&from_hp=1&term=#paging\\'\\nr = driver.get(url)\\nhtml = driver.execute_script(\"return document.documentElement.outerHTML\")\\nsoup = BeautifulSoup(html, \\'html.parser\\')'"
            ]
          },
          "metadata": {
            "tags": []
          },
          "execution_count": 4
        }
      ]
    },
    {
      "cell_type": "markdown",
      "metadata": {
        "id": "1bef0728-1d75-4cd3-b252-820a0627edc2"
      },
      "source": [
        "# Extracting the category names and ids so we can perform filters based on category"
      ],
      "id": "1bef0728-1d75-4cd3-b252-820a0627edc2"
    },
    {
      "cell_type": "code",
      "metadata": {
        "id": "70cc087b-e8d3-4b26-9aec-03f12a119da3"
      },
      "source": [
        "def extract_categories_dataframe():\n",
        "    \"\"\"\"\"\"\n",
        "    url = \"https://www.jobs.bg/index.php\"\n",
        "    r = driver.get(url)\n",
        "    categories_button = driver.find_element_by_id(\"categoriesChip\")\n",
        "    categories_button.click()\n",
        "    html = driver.execute_script(\"return document.documentElement.outerHTML\")\n",
        "    soup = BeautifulSoup(html, 'html.parser')\n",
        "\n",
        "    categories_elem = soup.find('div',attrs={'id':'categoriesSelectSheet'})\n",
        "    categories_elements = categories_elem.find_all(\"div\", attrs={\"class\": \"mdc-chip mdc-ripple-upgraded\"})\n",
        "\n",
        "    categories_info = []\n",
        "    categories_info.append((56))\n",
        "\n",
        "    for category_element in categories_elements:\n",
        "        category_id = category_element['id'].split(\"_\")[-1]\n",
        "        category_id = int(category_id)\n",
        "        categories_info.append(category_id)\n",
        "\n",
        "    #categories_info = pd.DataFrame(categories_info, columns=[\"category_id\"])\n",
        "\n",
        "    return categories_info"
      ],
      "id": "70cc087b-e8d3-4b26-9aec-03f12a119da3",
      "execution_count": 5,
      "outputs": []
    },
    {
      "cell_type": "code",
      "metadata": {
        "colab": {
          "base_uri": "https://localhost:8080/"
        },
        "id": "0ce546e7-df91-4c66-b18a-bcb3281818e2",
        "outputId": "80f2af1a-07fd-4428-d10d-72f78de12e29"
      },
      "source": [
        "cats_selected = [1,25]\n",
        "cats_selected"
      ],
      "id": "0ce546e7-df91-4c66-b18a-bcb3281818e2",
      "execution_count": 35,
      "outputs": [
        {
          "output_type": "execute_result",
          "data": {
            "text/plain": [
              "[1, 25]"
            ]
          },
          "metadata": {
            "tags": []
          },
          "execution_count": 35
        }
      ]
    },
    {
      "cell_type": "code",
      "metadata": {
        "id": "1a2f2738-a7e2-4043-a17f-4cae910649b4"
      },
      "source": [
        "def get_position_id(text_info_elem):\n",
        "    \"\"\"\n",
        "    \"\"\"\n",
        "    class_id_elem = 'card__title mdc-typography mdc-typography--headline6 text-overflow'\n",
        "    id_elem = text_info_elem.find('a',attrs={'class':class_id_elem})['href']\n",
        "    position_id = id_elem.lstrip('job/')\n",
        "    \n",
        "    return position_id\n",
        "\n",
        "def extract_job_position_id_as_array(base_url, text_info_elem): # , job_company_elem):\n",
        "    \"\"\"\n",
        "    \"\"\"\n",
        "    position_id = get_position_id(text_info_elem)\n",
        "\n",
        "    current_job_info = [position_id]\n",
        "    \n",
        "    return current_job_info\n",
        "\n",
        "def get_number_of_positions(text_info_elem):\n",
        "    \"\"\"\n",
        "    get the total number of positions on the page\n",
        "    INPUT: text_info_elem - beautifulsoup html webpage\n",
        "    \"\"\"\n",
        "    class_id_elem = 'height:25px;width:220px;font-weight:500;padding-bottom:5px;'\n",
        "    id_elem = text_info_elem.find('td',attrs={'style':class_id_elem}).text\n",
        "    num_postings = int(id_elem.split('от',1)[1].strip())\n",
        "        \n",
        "    return num_postings"
      ],
      "id": "1a2f2738-a7e2-4043-a17f-4cae910649b4",
      "execution_count": 14,
      "outputs": []
    },
    {
      "cell_type": "code",
      "metadata": {
        "colab": {
          "base_uri": "https://localhost:8080/"
        },
        "id": "L5esFkN_hV6z",
        "outputId": "0309f391-5dbc-45b9-a040-9b38f3716d4b"
      },
      "source": [
        "url = \"https://www.jobs.bg/front_job_search.php?frompage=0&add_sh=1&categories%5B0%5D=25&term=#paging\"\n",
        "              \n",
        "r = driver.get(url)\n",
        "html = driver.execute_script(\"return document.documentElement.outerHTML\")\n",
        "soup = BeautifulSoup(html, 'html.parser')\n",
        "\n",
        "get_number_of_positions(soup)"
      ],
      "id": "L5esFkN_hV6z",
      "execution_count": 16,
      "outputs": [
        {
          "output_type": "execute_result",
          "data": {
            "text/plain": [
              "105"
            ]
          },
          "metadata": {
            "tags": []
          },
          "execution_count": 16
        }
      ]
    },
    {
      "cell_type": "code",
      "metadata": {
        "colab": {
          "base_uri": "https://localhost:8080/"
        },
        "id": "ec-fzkYVfh9w",
        "outputId": "a2b81f98-af50-48e9-a69f-6dbdb4cd6e2d"
      },
      "source": [
        "int(round(get_number_of_positions(soup)/15,0))"
      ],
      "id": "ec-fzkYVfh9w",
      "execution_count": 26,
      "outputs": [
        {
          "output_type": "execute_result",
          "data": {
            "text/plain": [
              "7"
            ]
          },
          "metadata": {
            "tags": []
          },
          "execution_count": 26
        }
      ]
    },
    {
      "cell_type": "code",
      "metadata": {
        "colab": {
          "base_uri": "https://localhost:8080/"
        },
        "id": "a4TQ41twgQdj",
        "outputId": "505660b5-f648-42cb-c903-e9081fd8f431"
      },
      "source": [
        "for page in tqdm.tqdm(range(0, int(round(get_number_of_positions(soup)/15,0)))):\n",
        "  try:\n",
        "      # This is the base url looping through all categories and specified pages in order\n",
        "      url = \"https://www.jobs.bg/front_job_search.php?frompage={}&add_sh=1&categories%5B0%5D={}&term=#paging\".format(page*15, 1)\n",
        "    \n",
        "      r = driver.get(url)\n",
        "      html = driver.execute_script(\"return document.documentElement.outerHTML\")\n",
        "      soup = BeautifulSoup(html, 'html.parser')\n",
        "      \n",
        "      class_id_elem = 'card__title mdc-typography mdc-typography--headline6 text-overflow'\n",
        "      id_elem = soup.find_all('a',attrs={'class':class_id_elem})\n",
        "  except Exception as e:\n",
        "      print(f\"Page number: {page}, url: {url}\")\n",
        "      print(f\"Unexpected error: {e.message}\")"
      ],
      "id": "a4TQ41twgQdj",
      "execution_count": 28,
      "outputs": [
        {
          "output_type": "stream",
          "text": [
            "100%|██████████| 7/7 [00:14<00:00,  2.02s/it]\n"
          ],
          "name": "stderr"
        }
      ]
    },
    {
      "cell_type": "code",
      "metadata": {
        "id": "e3162494-d334-4729-82bd-0fd5293b1299"
      },
      "source": [
        "def extract_jobs(start_page):\n",
        "    \"\"\"\"\"\"\n",
        "    position_category_list = []\n",
        "\n",
        "    for category in tqdm.tqdm(cats_selected):\n",
        "        url = \"https://www.jobs.bg/front_job_search.php?frompage=0&add_sh=1&categories%5B0%5D={}&term=#paging\".format(category)\n",
        "              \n",
        "        r = driver.get(url)\n",
        "        html = driver.execute_script(\"return document.documentElement.outerHTML\")\n",
        "        soup = BeautifulSoup(html, 'html.parser')\n",
        "\n",
        "        endd_page = int(round(get_number_of_positions(soup)/15,0))\n",
        "            \n",
        "        for page in tqdm.tqdm(range(start_page, endd_page)):\n",
        "    \n",
        "            try:\n",
        "                # This is the base url looping through all categories and specified pages in order\n",
        "                url = \"https://www.jobs.bg/front_job_search.php?frompage={}&add_sh=1&categories%5B0%5D={}&term=#paging\".format(page*15, category)\n",
        "              \n",
        "                r = driver.get(url)\n",
        "                html = driver.execute_script(\"return document.documentElement.outerHTML\")\n",
        "                soup = BeautifulSoup(html, 'html.parser')\n",
        "                \n",
        "                class_id_elem = 'card__title mdc-typography mdc-typography--headline6 text-overflow'\n",
        "                id_elem = soup.find_all('a',attrs={'class':class_id_elem})\n",
        "            except Exception as e:\n",
        "                print(f\"Page number: {page}, url: {url}\")\n",
        "                print(f\"Unexpected error: {e.message}\")\n",
        "\n",
        "            for i in range(0,15,1):\n",
        "                try:\n",
        "                    position_id = id_elem[i]['href'].lstrip('job/')\n",
        "                    position_id = (position_id, category)\n",
        "                    position_category_list.append(position_id)\n",
        "\n",
        "                except Exception as e:\n",
        "                    print(f\"Curent page: {page}, {category}, {position_id}\")\n",
        "                    print(f\"Unexpected error: {e}\")\n",
        "\n",
        "    df_columns = [\"position_id\", \"category\"]\n",
        "\n",
        "    position_categofy_df = pd.DataFrame(position_category_list, columns=df_columns)\n",
        "\n",
        "    return position_categofy_df"
      ],
      "id": "e3162494-d334-4729-82bd-0fd5293b1299",
      "execution_count": 33,
      "outputs": []
    },
    {
      "cell_type": "code",
      "metadata": {
        "colab": {
          "base_uri": "https://localhost:8080/"
        },
        "id": "ccd3f77c-3023-4841-9552-848b9387445a",
        "outputId": "f6bc759e-9533-471e-9088-5cb8e3536ed5"
      },
      "source": [
        "jobs = extract_jobs(0)"
      ],
      "id": "ccd3f77c-3023-4841-9552-848b9387445a",
      "execution_count": 36,
      "outputs": [
        {
          "output_type": "stream",
          "text": [
            "  0%|          | 0/2 [00:00<?, ?it/s]\n",
            "  0%|          | 0/6 [00:00<?, ?it/s]\u001b[A\n",
            " 17%|█▋        | 1/6 [00:01<00:07,  1.56s/it]\u001b[A\n",
            " 33%|███▎      | 2/6 [00:03<00:06,  1.54s/it]\u001b[A\n",
            " 50%|█████     | 3/6 [00:04<00:04,  1.53s/it]\u001b[A\n",
            " 67%|██████▋   | 4/6 [00:06<00:03,  1.51s/it]\u001b[A\n",
            " 83%|████████▎ | 5/6 [00:07<00:01,  1.50s/it]\u001b[A\n",
            "100%|██████████| 6/6 [00:09<00:00,  1.54s/it]\n",
            " 50%|█████     | 1/2 [00:12<00:12, 12.93s/it]"
          ],
          "name": "stderr"
        },
        {
          "output_type": "stream",
          "text": [
            "Curent page: 5, 1, ('5789919', 1)\n",
            "Unexpected error: list index out of range\n",
            "Curent page: 5, 1, ('5789919', 1)\n",
            "Unexpected error: list index out of range\n",
            "Curent page: 5, 1, ('5789919', 1)\n",
            "Unexpected error: list index out of range\n",
            "Curent page: 5, 1, ('5789919', 1)\n",
            "Unexpected error: list index out of range\n",
            "Curent page: 5, 1, ('5789919', 1)\n",
            "Unexpected error: list index out of range\n",
            "Curent page: 5, 1, ('5789919', 1)\n",
            "Unexpected error: list index out of range\n"
          ],
          "name": "stdout"
        },
        {
          "output_type": "stream",
          "text": [
            "\n",
            "  0%|          | 0/7 [00:00<?, ?it/s]\u001b[A\n",
            " 14%|█▍        | 1/7 [00:01<00:08,  1.50s/it]\u001b[A\n",
            " 29%|██▊       | 2/7 [00:02<00:07,  1.49s/it]\u001b[A\n",
            " 43%|████▎     | 3/7 [00:04<00:05,  1.49s/it]\u001b[A\n",
            " 57%|█████▋    | 4/7 [00:06<00:04,  1.53s/it]\u001b[A\n",
            " 71%|███████▏  | 5/7 [00:07<00:03,  1.51s/it]\u001b[A\n",
            " 86%|████████▌ | 6/7 [00:09<00:01,  1.52s/it]\u001b[A\n",
            "100%|██████████| 7/7 [00:10<00:00,  1.51s/it]\n",
            "100%|██████████| 2/2 [00:25<00:00, 12.52s/it]\n"
          ],
          "name": "stderr"
        }
      ]
    },
    {
      "cell_type": "code",
      "metadata": {
        "colab": {
          "base_uri": "https://localhost:8080/",
          "height": 419
        },
        "id": "603de8ec-3a58-4916-9365-25b504ba6f31",
        "outputId": "a7b72445-eb24-4d6c-990d-a9d92f8a3977"
      },
      "source": [
        "jobs"
      ],
      "id": "603de8ec-3a58-4916-9365-25b504ba6f31",
      "execution_count": 32,
      "outputs": [
        {
          "output_type": "execute_result",
          "data": {
            "text/html": [
              "<div>\n",
              "<style scoped>\n",
              "    .dataframe tbody tr th:only-of-type {\n",
              "        vertical-align: middle;\n",
              "    }\n",
              "\n",
              "    .dataframe tbody tr th {\n",
              "        vertical-align: top;\n",
              "    }\n",
              "\n",
              "    .dataframe thead th {\n",
              "        text-align: right;\n",
              "    }\n",
              "</style>\n",
              "<table border=\"1\" class=\"dataframe\">\n",
              "  <thead>\n",
              "    <tr style=\"text-align: right;\">\n",
              "      <th></th>\n",
              "      <th>position_id</th>\n",
              "      <th>category</th>\n",
              "    </tr>\n",
              "  </thead>\n",
              "  <tbody>\n",
              "    <tr>\n",
              "      <th>0</th>\n",
              "      <td>5810012</td>\n",
              "      <td>25</td>\n",
              "    </tr>\n",
              "    <tr>\n",
              "      <th>1</th>\n",
              "      <td>5831082</td>\n",
              "      <td>25</td>\n",
              "    </tr>\n",
              "    <tr>\n",
              "      <th>2</th>\n",
              "      <td>5826489</td>\n",
              "      <td>25</td>\n",
              "    </tr>\n",
              "    <tr>\n",
              "      <th>3</th>\n",
              "      <td>5798567</td>\n",
              "      <td>25</td>\n",
              "    </tr>\n",
              "    <tr>\n",
              "      <th>4</th>\n",
              "      <td>5834237</td>\n",
              "      <td>25</td>\n",
              "    </tr>\n",
              "    <tr>\n",
              "      <th>...</th>\n",
              "      <td>...</td>\n",
              "      <td>...</td>\n",
              "    </tr>\n",
              "    <tr>\n",
              "      <th>184</th>\n",
              "      <td>5796654</td>\n",
              "      <td>1</td>\n",
              "    </tr>\n",
              "    <tr>\n",
              "      <th>185</th>\n",
              "      <td>5796653</td>\n",
              "      <td>1</td>\n",
              "    </tr>\n",
              "    <tr>\n",
              "      <th>186</th>\n",
              "      <td>5796652</td>\n",
              "      <td>1</td>\n",
              "    </tr>\n",
              "    <tr>\n",
              "      <th>187</th>\n",
              "      <td>5796635</td>\n",
              "      <td>1</td>\n",
              "    </tr>\n",
              "    <tr>\n",
              "      <th>188</th>\n",
              "      <td>5789919</td>\n",
              "      <td>1</td>\n",
              "    </tr>\n",
              "  </tbody>\n",
              "</table>\n",
              "<p>189 rows × 2 columns</p>\n",
              "</div>"
            ],
            "text/plain": [
              "    position_id  category\n",
              "0       5810012        25\n",
              "1       5831082        25\n",
              "2       5826489        25\n",
              "3       5798567        25\n",
              "4       5834237        25\n",
              "..          ...       ...\n",
              "184     5796654         1\n",
              "185     5796653         1\n",
              "186     5796652         1\n",
              "187     5796635         1\n",
              "188     5789919         1\n",
              "\n",
              "[189 rows x 2 columns]"
            ]
          },
          "metadata": {
            "tags": []
          },
          "execution_count": 32
        }
      ]
    },
    {
      "cell_type": "code",
      "metadata": {
        "id": "8d7a385a-3274-42c1-bbe6-8bb875d9b3f5"
      },
      "source": [
        "jobs.to_csv(\"/content/ShardDrives/MyDrive/jobsbg_scrapped/categories_20210610.csv\", index=False)"
      ],
      "id": "8d7a385a-3274-42c1-bbe6-8bb875d9b3f5",
      "execution_count": null,
      "outputs": []
    },
    {
      "cell_type": "code",
      "metadata": {
        "colab": {
          "base_uri": "https://localhost:8080/"
        },
        "id": "BcMbIo5Nrr-W",
        "outputId": "2a1eaf75-d37b-4d5c-ebbc-c2860431ef32"
      },
      "source": [
        "%ls /content/ShardDrives/MyDrive/Podcast"
      ],
      "id": "BcMbIo5Nrr-W",
      "execution_count": null,
      "outputs": [
        {
          "output_type": "stream",
          "text": [
            " \u001b[0m\u001b[01;34mArchive\u001b[0m/   categories_20210609.csv  \u001b[01;34m'episode 4_data'\u001b[0m/  \u001b[01;34m'For Bllopers 2_data'\u001b[0m/\n"
          ],
          "name": "stdout"
        }
      ]
    },
    {
      "cell_type": "code",
      "metadata": {
        "id": "eBB_C4_8sHi1"
      },
      "source": [
        ""
      ],
      "id": "eBB_C4_8sHi1",
      "execution_count": null,
      "outputs": []
    }
  ]
}